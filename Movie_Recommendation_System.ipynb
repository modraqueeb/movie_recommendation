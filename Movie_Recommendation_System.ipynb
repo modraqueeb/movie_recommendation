{
  "nbformat": 4,
  "nbformat_minor": 0,
  "metadata": {
    "colab": {
      "provenance": [],
      "authorship_tag": "ABX9TyN0/VuKzo9PvHckXs7/QPxF",
      "include_colab_link": true
    },
    "kernelspec": {
      "name": "python3",
      "display_name": "Python 3"
    },
    "language_info": {
      "name": "python"
    }
  },
  "cells": [
    {
      "cell_type": "markdown",
      "metadata": {
        "id": "view-in-github",
        "colab_type": "text"
      },
      "source": [
        "<a href=\"https://colab.research.google.com/github/modraqueeb/movie_recommendation/blob/main/Movie_Recommendation_System.ipynb\" target=\"_parent\"><img src=\"https://colab.research.google.com/assets/colab-badge.svg\" alt=\"Open In Colab\"/></a>"
      ]
    },
    {
      "cell_type": "markdown",
      "source": [
        "Required Libraries"
      ],
      "metadata": {
        "id": "4DOO1Z8BnOTU"
      }
    },
    {
      "cell_type": "code",
      "execution_count": null,
      "metadata": {
        "id": "WZUrLlT7zaY1"
      },
      "outputs": [],
      "source": [
        "import numpy as np\n",
        "import pandas as pd\n",
        "import difflib\n",
        "import sklearn\n",
        "from sklearn.feature_extraction.text import TfidfVectorizer\n",
        "from sklearn.metrics.pairwise import cosine_similarity"
      ]
    },
    {
      "cell_type": "code",
      "source": [
        "df=pd.read_csv('/content/movies.csv')"
      ],
      "metadata": {
        "id": "4UpNAcPmoJnS"
      },
      "execution_count": null,
      "outputs": []
    },
    {
      "cell_type": "code",
      "source": [
        "df.shape"
      ],
      "metadata": {
        "colab": {
          "base_uri": "https://localhost:8080/"
        },
        "id": "dYuNLei3oaFB",
        "outputId": "d7699dc1-088d-4930-c931-7fd269619ac3"
      },
      "execution_count": null,
      "outputs": [
        {
          "output_type": "execute_result",
          "data": {
            "text/plain": [
              "(4803, 24)"
            ]
          },
          "metadata": {},
          "execution_count": 8
        }
      ]
    },
    {
      "cell_type": "code",
      "source": [
        "df.head()"
      ],
      "metadata": {
        "colab": {
          "base_uri": "https://localhost:8080/",
          "height": 793
        },
        "id": "L7YIBLglohhU",
        "outputId": "5e324241-d98e-4315-b3b6-fad616f49c98"
      },
      "execution_count": null,
      "outputs": [
        {
          "output_type": "execute_result",
          "data": {
            "text/plain": [
              "   index     budget                                    genres  \\\n",
              "0      0  237000000  Action Adventure Fantasy Science Fiction   \n",
              "1      1  300000000                  Adventure Fantasy Action   \n",
              "2      2  245000000                    Action Adventure Crime   \n",
              "3      3  250000000               Action Crime Drama Thriller   \n",
              "4      4  260000000          Action Adventure Science Fiction   \n",
              "\n",
              "                                       homepage      id  \\\n",
              "0                   http://www.avatarmovie.com/   19995   \n",
              "1  http://disney.go.com/disneypictures/pirates/     285   \n",
              "2   http://www.sonypictures.com/movies/spectre/  206647   \n",
              "3            http://www.thedarkknightrises.com/   49026   \n",
              "4          http://movies.disney.com/john-carter   49529   \n",
              "\n",
              "                                            keywords original_language  \\\n",
              "0  culture clash future space war space colony so...                en   \n",
              "1  ocean drug abuse exotic island east india trad...                en   \n",
              "2         spy based on novel secret agent sequel mi6                en   \n",
              "3  dc comics crime fighter terrorist secret ident...                en   \n",
              "4  based on novel mars medallion space travel pri...                en   \n",
              "\n",
              "                             original_title  \\\n",
              "0                                    Avatar   \n",
              "1  Pirates of the Caribbean: At World's End   \n",
              "2                                   Spectre   \n",
              "3                     The Dark Knight Rises   \n",
              "4                               John Carter   \n",
              "\n",
              "                                            overview  popularity  ... runtime  \\\n",
              "0  In the 22nd century, a paraplegic Marine is di...  150.437577  ...   162.0   \n",
              "1  Captain Barbossa, long believed to be dead, ha...  139.082615  ...   169.0   \n",
              "2  A cryptic message from Bond’s past sends him o...  107.376788  ...   148.0   \n",
              "3  Following the death of District Attorney Harve...  112.312950  ...   165.0   \n",
              "4  John Carter is a war-weary, former military ca...   43.926995  ...   132.0   \n",
              "\n",
              "                                    spoken_languages    status  \\\n",
              "0  [{\"iso_639_1\": \"en\", \"name\": \"English\"}, {\"iso...  Released   \n",
              "1           [{\"iso_639_1\": \"en\", \"name\": \"English\"}]  Released   \n",
              "2  [{\"iso_639_1\": \"fr\", \"name\": \"Fran\\u00e7ais\"},...  Released   \n",
              "3           [{\"iso_639_1\": \"en\", \"name\": \"English\"}]  Released   \n",
              "4           [{\"iso_639_1\": \"en\", \"name\": \"English\"}]  Released   \n",
              "\n",
              "                                          tagline  \\\n",
              "0                     Enter the World of Pandora.   \n",
              "1  At the end of the world, the adventure begins.   \n",
              "2                           A Plan No One Escapes   \n",
              "3                                 The Legend Ends   \n",
              "4            Lost in our world, found in another.   \n",
              "\n",
              "                                      title vote_average vote_count  \\\n",
              "0                                    Avatar          7.2      11800   \n",
              "1  Pirates of the Caribbean: At World's End          6.9       4500   \n",
              "2                                   Spectre          6.3       4466   \n",
              "3                     The Dark Knight Rises          7.6       9106   \n",
              "4                               John Carter          6.1       2124   \n",
              "\n",
              "                                                cast  \\\n",
              "0  Sam Worthington Zoe Saldana Sigourney Weaver S...   \n",
              "1  Johnny Depp Orlando Bloom Keira Knightley Stel...   \n",
              "2  Daniel Craig Christoph Waltz L\\u00e9a Seydoux ...   \n",
              "3  Christian Bale Michael Caine Gary Oldman Anne ...   \n",
              "4  Taylor Kitsch Lynn Collins Samantha Morton Wil...   \n",
              "\n",
              "                                                crew           director  \n",
              "0  [{'name': 'Stephen E. Rivkin', 'gender': 0, 'd...      James Cameron  \n",
              "1  [{'name': 'Dariusz Wolski', 'gender': 2, 'depa...     Gore Verbinski  \n",
              "2  [{'name': 'Thomas Newman', 'gender': 2, 'depar...         Sam Mendes  \n",
              "3  [{'name': 'Hans Zimmer', 'gender': 2, 'departm...  Christopher Nolan  \n",
              "4  [{'name': 'Andrew Stanton', 'gender': 2, 'depa...     Andrew Stanton  \n",
              "\n",
              "[5 rows x 24 columns]"
            ],
            "text/html": [
              "\n",
              "  <div id=\"df-4b786b2f-1948-4e27-bf2b-19e3263f079b\" class=\"colab-df-container\">\n",
              "    <div>\n",
              "<style scoped>\n",
              "    .dataframe tbody tr th:only-of-type {\n",
              "        vertical-align: middle;\n",
              "    }\n",
              "\n",
              "    .dataframe tbody tr th {\n",
              "        vertical-align: top;\n",
              "    }\n",
              "\n",
              "    .dataframe thead th {\n",
              "        text-align: right;\n",
              "    }\n",
              "</style>\n",
              "<table border=\"1\" class=\"dataframe\">\n",
              "  <thead>\n",
              "    <tr style=\"text-align: right;\">\n",
              "      <th></th>\n",
              "      <th>index</th>\n",
              "      <th>budget</th>\n",
              "      <th>genres</th>\n",
              "      <th>homepage</th>\n",
              "      <th>id</th>\n",
              "      <th>keywords</th>\n",
              "      <th>original_language</th>\n",
              "      <th>original_title</th>\n",
              "      <th>overview</th>\n",
              "      <th>popularity</th>\n",
              "      <th>...</th>\n",
              "      <th>runtime</th>\n",
              "      <th>spoken_languages</th>\n",
              "      <th>status</th>\n",
              "      <th>tagline</th>\n",
              "      <th>title</th>\n",
              "      <th>vote_average</th>\n",
              "      <th>vote_count</th>\n",
              "      <th>cast</th>\n",
              "      <th>crew</th>\n",
              "      <th>director</th>\n",
              "    </tr>\n",
              "  </thead>\n",
              "  <tbody>\n",
              "    <tr>\n",
              "      <th>0</th>\n",
              "      <td>0</td>\n",
              "      <td>237000000</td>\n",
              "      <td>Action Adventure Fantasy Science Fiction</td>\n",
              "      <td>http://www.avatarmovie.com/</td>\n",
              "      <td>19995</td>\n",
              "      <td>culture clash future space war space colony so...</td>\n",
              "      <td>en</td>\n",
              "      <td>Avatar</td>\n",
              "      <td>In the 22nd century, a paraplegic Marine is di...</td>\n",
              "      <td>150.437577</td>\n",
              "      <td>...</td>\n",
              "      <td>162.0</td>\n",
              "      <td>[{\"iso_639_1\": \"en\", \"name\": \"English\"}, {\"iso...</td>\n",
              "      <td>Released</td>\n",
              "      <td>Enter the World of Pandora.</td>\n",
              "      <td>Avatar</td>\n",
              "      <td>7.2</td>\n",
              "      <td>11800</td>\n",
              "      <td>Sam Worthington Zoe Saldana Sigourney Weaver S...</td>\n",
              "      <td>[{'name': 'Stephen E. Rivkin', 'gender': 0, 'd...</td>\n",
              "      <td>James Cameron</td>\n",
              "    </tr>\n",
              "    <tr>\n",
              "      <th>1</th>\n",
              "      <td>1</td>\n",
              "      <td>300000000</td>\n",
              "      <td>Adventure Fantasy Action</td>\n",
              "      <td>http://disney.go.com/disneypictures/pirates/</td>\n",
              "      <td>285</td>\n",
              "      <td>ocean drug abuse exotic island east india trad...</td>\n",
              "      <td>en</td>\n",
              "      <td>Pirates of the Caribbean: At World's End</td>\n",
              "      <td>Captain Barbossa, long believed to be dead, ha...</td>\n",
              "      <td>139.082615</td>\n",
              "      <td>...</td>\n",
              "      <td>169.0</td>\n",
              "      <td>[{\"iso_639_1\": \"en\", \"name\": \"English\"}]</td>\n",
              "      <td>Released</td>\n",
              "      <td>At the end of the world, the adventure begins.</td>\n",
              "      <td>Pirates of the Caribbean: At World's End</td>\n",
              "      <td>6.9</td>\n",
              "      <td>4500</td>\n",
              "      <td>Johnny Depp Orlando Bloom Keira Knightley Stel...</td>\n",
              "      <td>[{'name': 'Dariusz Wolski', 'gender': 2, 'depa...</td>\n",
              "      <td>Gore Verbinski</td>\n",
              "    </tr>\n",
              "    <tr>\n",
              "      <th>2</th>\n",
              "      <td>2</td>\n",
              "      <td>245000000</td>\n",
              "      <td>Action Adventure Crime</td>\n",
              "      <td>http://www.sonypictures.com/movies/spectre/</td>\n",
              "      <td>206647</td>\n",
              "      <td>spy based on novel secret agent sequel mi6</td>\n",
              "      <td>en</td>\n",
              "      <td>Spectre</td>\n",
              "      <td>A cryptic message from Bond’s past sends him o...</td>\n",
              "      <td>107.376788</td>\n",
              "      <td>...</td>\n",
              "      <td>148.0</td>\n",
              "      <td>[{\"iso_639_1\": \"fr\", \"name\": \"Fran\\u00e7ais\"},...</td>\n",
              "      <td>Released</td>\n",
              "      <td>A Plan No One Escapes</td>\n",
              "      <td>Spectre</td>\n",
              "      <td>6.3</td>\n",
              "      <td>4466</td>\n",
              "      <td>Daniel Craig Christoph Waltz L\\u00e9a Seydoux ...</td>\n",
              "      <td>[{'name': 'Thomas Newman', 'gender': 2, 'depar...</td>\n",
              "      <td>Sam Mendes</td>\n",
              "    </tr>\n",
              "    <tr>\n",
              "      <th>3</th>\n",
              "      <td>3</td>\n",
              "      <td>250000000</td>\n",
              "      <td>Action Crime Drama Thriller</td>\n",
              "      <td>http://www.thedarkknightrises.com/</td>\n",
              "      <td>49026</td>\n",
              "      <td>dc comics crime fighter terrorist secret ident...</td>\n",
              "      <td>en</td>\n",
              "      <td>The Dark Knight Rises</td>\n",
              "      <td>Following the death of District Attorney Harve...</td>\n",
              "      <td>112.312950</td>\n",
              "      <td>...</td>\n",
              "      <td>165.0</td>\n",
              "      <td>[{\"iso_639_1\": \"en\", \"name\": \"English\"}]</td>\n",
              "      <td>Released</td>\n",
              "      <td>The Legend Ends</td>\n",
              "      <td>The Dark Knight Rises</td>\n",
              "      <td>7.6</td>\n",
              "      <td>9106</td>\n",
              "      <td>Christian Bale Michael Caine Gary Oldman Anne ...</td>\n",
              "      <td>[{'name': 'Hans Zimmer', 'gender': 2, 'departm...</td>\n",
              "      <td>Christopher Nolan</td>\n",
              "    </tr>\n",
              "    <tr>\n",
              "      <th>4</th>\n",
              "      <td>4</td>\n",
              "      <td>260000000</td>\n",
              "      <td>Action Adventure Science Fiction</td>\n",
              "      <td>http://movies.disney.com/john-carter</td>\n",
              "      <td>49529</td>\n",
              "      <td>based on novel mars medallion space travel pri...</td>\n",
              "      <td>en</td>\n",
              "      <td>John Carter</td>\n",
              "      <td>John Carter is a war-weary, former military ca...</td>\n",
              "      <td>43.926995</td>\n",
              "      <td>...</td>\n",
              "      <td>132.0</td>\n",
              "      <td>[{\"iso_639_1\": \"en\", \"name\": \"English\"}]</td>\n",
              "      <td>Released</td>\n",
              "      <td>Lost in our world, found in another.</td>\n",
              "      <td>John Carter</td>\n",
              "      <td>6.1</td>\n",
              "      <td>2124</td>\n",
              "      <td>Taylor Kitsch Lynn Collins Samantha Morton Wil...</td>\n",
              "      <td>[{'name': 'Andrew Stanton', 'gender': 2, 'depa...</td>\n",
              "      <td>Andrew Stanton</td>\n",
              "    </tr>\n",
              "  </tbody>\n",
              "</table>\n",
              "<p>5 rows × 24 columns</p>\n",
              "</div>\n",
              "    <div class=\"colab-df-buttons\">\n",
              "\n",
              "  <div class=\"colab-df-container\">\n",
              "    <button class=\"colab-df-convert\" onclick=\"convertToInteractive('df-4b786b2f-1948-4e27-bf2b-19e3263f079b')\"\n",
              "            title=\"Convert this dataframe to an interactive table.\"\n",
              "            style=\"display:none;\">\n",
              "\n",
              "  <svg xmlns=\"http://www.w3.org/2000/svg\" height=\"24px\" viewBox=\"0 -960 960 960\">\n",
              "    <path d=\"M120-120v-720h720v720H120Zm60-500h600v-160H180v160Zm220 220h160v-160H400v160Zm0 220h160v-160H400v160ZM180-400h160v-160H180v160Zm440 0h160v-160H620v160ZM180-180h160v-160H180v160Zm440 0h160v-160H620v160Z\"/>\n",
              "  </svg>\n",
              "    </button>\n",
              "\n",
              "  <style>\n",
              "    .colab-df-container {\n",
              "      display:flex;\n",
              "      gap: 12px;\n",
              "    }\n",
              "\n",
              "    .colab-df-convert {\n",
              "      background-color: #E8F0FE;\n",
              "      border: none;\n",
              "      border-radius: 50%;\n",
              "      cursor: pointer;\n",
              "      display: none;\n",
              "      fill: #1967D2;\n",
              "      height: 32px;\n",
              "      padding: 0 0 0 0;\n",
              "      width: 32px;\n",
              "    }\n",
              "\n",
              "    .colab-df-convert:hover {\n",
              "      background-color: #E2EBFA;\n",
              "      box-shadow: 0px 1px 2px rgba(60, 64, 67, 0.3), 0px 1px 3px 1px rgba(60, 64, 67, 0.15);\n",
              "      fill: #174EA6;\n",
              "    }\n",
              "\n",
              "    .colab-df-buttons div {\n",
              "      margin-bottom: 4px;\n",
              "    }\n",
              "\n",
              "    [theme=dark] .colab-df-convert {\n",
              "      background-color: #3B4455;\n",
              "      fill: #D2E3FC;\n",
              "    }\n",
              "\n",
              "    [theme=dark] .colab-df-convert:hover {\n",
              "      background-color: #434B5C;\n",
              "      box-shadow: 0px 1px 3px 1px rgba(0, 0, 0, 0.15);\n",
              "      filter: drop-shadow(0px 1px 2px rgba(0, 0, 0, 0.3));\n",
              "      fill: #FFFFFF;\n",
              "    }\n",
              "  </style>\n",
              "\n",
              "    <script>\n",
              "      const buttonEl =\n",
              "        document.querySelector('#df-4b786b2f-1948-4e27-bf2b-19e3263f079b button.colab-df-convert');\n",
              "      buttonEl.style.display =\n",
              "        google.colab.kernel.accessAllowed ? 'block' : 'none';\n",
              "\n",
              "      async function convertToInteractive(key) {\n",
              "        const element = document.querySelector('#df-4b786b2f-1948-4e27-bf2b-19e3263f079b');\n",
              "        const dataTable =\n",
              "          await google.colab.kernel.invokeFunction('convertToInteractive',\n",
              "                                                    [key], {});\n",
              "        if (!dataTable) return;\n",
              "\n",
              "        const docLinkHtml = 'Like what you see? Visit the ' +\n",
              "          '<a target=\"_blank\" href=https://colab.research.google.com/notebooks/data_table.ipynb>data table notebook</a>'\n",
              "          + ' to learn more about interactive tables.';\n",
              "        element.innerHTML = '';\n",
              "        dataTable['output_type'] = 'display_data';\n",
              "        await google.colab.output.renderOutput(dataTable, element);\n",
              "        const docLink = document.createElement('div');\n",
              "        docLink.innerHTML = docLinkHtml;\n",
              "        element.appendChild(docLink);\n",
              "      }\n",
              "    </script>\n",
              "  </div>\n",
              "\n",
              "\n",
              "<div id=\"df-d52929ce-960b-4a97-a3ed-21659730abc0\">\n",
              "  <button class=\"colab-df-quickchart\" onclick=\"quickchart('df-d52929ce-960b-4a97-a3ed-21659730abc0')\"\n",
              "            title=\"Suggest charts\"\n",
              "            style=\"display:none;\">\n",
              "\n",
              "<svg xmlns=\"http://www.w3.org/2000/svg\" height=\"24px\"viewBox=\"0 0 24 24\"\n",
              "     width=\"24px\">\n",
              "    <g>\n",
              "        <path d=\"M19 3H5c-1.1 0-2 .9-2 2v14c0 1.1.9 2 2 2h14c1.1 0 2-.9 2-2V5c0-1.1-.9-2-2-2zM9 17H7v-7h2v7zm4 0h-2V7h2v10zm4 0h-2v-4h2v4z\"/>\n",
              "    </g>\n",
              "</svg>\n",
              "  </button>\n",
              "\n",
              "<style>\n",
              "  .colab-df-quickchart {\n",
              "      --bg-color: #E8F0FE;\n",
              "      --fill-color: #1967D2;\n",
              "      --hover-bg-color: #E2EBFA;\n",
              "      --hover-fill-color: #174EA6;\n",
              "      --disabled-fill-color: #AAA;\n",
              "      --disabled-bg-color: #DDD;\n",
              "  }\n",
              "\n",
              "  [theme=dark] .colab-df-quickchart {\n",
              "      --bg-color: #3B4455;\n",
              "      --fill-color: #D2E3FC;\n",
              "      --hover-bg-color: #434B5C;\n",
              "      --hover-fill-color: #FFFFFF;\n",
              "      --disabled-bg-color: #3B4455;\n",
              "      --disabled-fill-color: #666;\n",
              "  }\n",
              "\n",
              "  .colab-df-quickchart {\n",
              "    background-color: var(--bg-color);\n",
              "    border: none;\n",
              "    border-radius: 50%;\n",
              "    cursor: pointer;\n",
              "    display: none;\n",
              "    fill: var(--fill-color);\n",
              "    height: 32px;\n",
              "    padding: 0;\n",
              "    width: 32px;\n",
              "  }\n",
              "\n",
              "  .colab-df-quickchart:hover {\n",
              "    background-color: var(--hover-bg-color);\n",
              "    box-shadow: 0 1px 2px rgba(60, 64, 67, 0.3), 0 1px 3px 1px rgba(60, 64, 67, 0.15);\n",
              "    fill: var(--button-hover-fill-color);\n",
              "  }\n",
              "\n",
              "  .colab-df-quickchart-complete:disabled,\n",
              "  .colab-df-quickchart-complete:disabled:hover {\n",
              "    background-color: var(--disabled-bg-color);\n",
              "    fill: var(--disabled-fill-color);\n",
              "    box-shadow: none;\n",
              "  }\n",
              "\n",
              "  .colab-df-spinner {\n",
              "    border: 2px solid var(--fill-color);\n",
              "    border-color: transparent;\n",
              "    border-bottom-color: var(--fill-color);\n",
              "    animation:\n",
              "      spin 1s steps(1) infinite;\n",
              "  }\n",
              "\n",
              "  @keyframes spin {\n",
              "    0% {\n",
              "      border-color: transparent;\n",
              "      border-bottom-color: var(--fill-color);\n",
              "      border-left-color: var(--fill-color);\n",
              "    }\n",
              "    20% {\n",
              "      border-color: transparent;\n",
              "      border-left-color: var(--fill-color);\n",
              "      border-top-color: var(--fill-color);\n",
              "    }\n",
              "    30% {\n",
              "      border-color: transparent;\n",
              "      border-left-color: var(--fill-color);\n",
              "      border-top-color: var(--fill-color);\n",
              "      border-right-color: var(--fill-color);\n",
              "    }\n",
              "    40% {\n",
              "      border-color: transparent;\n",
              "      border-right-color: var(--fill-color);\n",
              "      border-top-color: var(--fill-color);\n",
              "    }\n",
              "    60% {\n",
              "      border-color: transparent;\n",
              "      border-right-color: var(--fill-color);\n",
              "    }\n",
              "    80% {\n",
              "      border-color: transparent;\n",
              "      border-right-color: var(--fill-color);\n",
              "      border-bottom-color: var(--fill-color);\n",
              "    }\n",
              "    90% {\n",
              "      border-color: transparent;\n",
              "      border-bottom-color: var(--fill-color);\n",
              "    }\n",
              "  }\n",
              "</style>\n",
              "\n",
              "  <script>\n",
              "    async function quickchart(key) {\n",
              "      const quickchartButtonEl =\n",
              "        document.querySelector('#' + key + ' button');\n",
              "      quickchartButtonEl.disabled = true;  // To prevent multiple clicks.\n",
              "      quickchartButtonEl.classList.add('colab-df-spinner');\n",
              "      try {\n",
              "        const charts = await google.colab.kernel.invokeFunction(\n",
              "            'suggestCharts', [key], {});\n",
              "      } catch (error) {\n",
              "        console.error('Error during call to suggestCharts:', error);\n",
              "      }\n",
              "      quickchartButtonEl.classList.remove('colab-df-spinner');\n",
              "      quickchartButtonEl.classList.add('colab-df-quickchart-complete');\n",
              "    }\n",
              "    (() => {\n",
              "      let quickchartButtonEl =\n",
              "        document.querySelector('#df-d52929ce-960b-4a97-a3ed-21659730abc0 button');\n",
              "      quickchartButtonEl.style.display =\n",
              "        google.colab.kernel.accessAllowed ? 'block' : 'none';\n",
              "    })();\n",
              "  </script>\n",
              "</div>\n",
              "\n",
              "    </div>\n",
              "  </div>\n"
            ],
            "application/vnd.google.colaboratory.intrinsic+json": {
              "type": "dataframe",
              "variable_name": "df"
            }
          },
          "metadata": {},
          "execution_count": 9
        }
      ]
    },
    {
      "cell_type": "markdown",
      "source": [
        "Feature  selection"
      ],
      "metadata": {
        "id": "fsuOvKkzpDIQ"
      }
    },
    {
      "cell_type": "code",
      "source": [
        "selected_features = ['genres','keywords','tagline','cast','director']\n",
        "print(selected_features)"
      ],
      "metadata": {
        "colab": {
          "base_uri": "https://localhost:8080/"
        },
        "id": "-9d2sEe7orRO",
        "outputId": "e49f6c6c-c6dc-42b3-8375-6d6d9732bb0f"
      },
      "execution_count": null,
      "outputs": [
        {
          "output_type": "stream",
          "name": "stdout",
          "text": [
            "['genres', 'keywords', 'tagline', 'cast', 'director']\n"
          ]
        }
      ]
    },
    {
      "cell_type": "code",
      "source": [
        "for feature in selected_features:\n",
        "  df[feature] = df[feature].fillna('')"
      ],
      "metadata": {
        "id": "e54NojKDtBZO"
      },
      "execution_count": null,
      "outputs": []
    },
    {
      "cell_type": "markdown",
      "source": [],
      "metadata": {
        "id": "f9-4F0DNp_j1"
      }
    },
    {
      "cell_type": "code",
      "source": [
        "combined_features = df['genres']+' '+df['keywords']+' '+df['tagline']+' '+df['cast']+' '+df['director']"
      ],
      "metadata": {
        "id": "-6qzRR-4pLYH"
      },
      "execution_count": null,
      "outputs": []
    },
    {
      "cell_type": "markdown",
      "source": [
        "Vectorizing text data"
      ],
      "metadata": {
        "id": "Mq7MW1akwpsi"
      }
    },
    {
      "cell_type": "code",
      "source": [
        "vectorize=TfidfVectorizer()"
      ],
      "metadata": {
        "id": "sRCcYQfCpwzU"
      },
      "execution_count": null,
      "outputs": []
    },
    {
      "cell_type": "code",
      "source": [
        "df2=vectorize.fit_transform(combined_features)\n",
        "print (df2)"
      ],
      "metadata": {
        "colab": {
          "base_uri": "https://localhost:8080/"
        },
        "id": "nHenhjMJqZcX",
        "outputId": "10c6b8e9-96b0-4438-e11d-53c777572713"
      },
      "execution_count": null,
      "outputs": [
        {
          "output_type": "stream",
          "name": "stdout",
          "text": [
            "  (0, 201)\t0.07860022416510505\n",
            "  (0, 274)\t0.09021200873707368\n",
            "  (0, 5274)\t0.11108562744414445\n",
            "  (0, 13599)\t0.1036413987316636\n",
            "  (0, 5437)\t0.1036413987316636\n",
            "  (0, 3678)\t0.21392179219912877\n",
            "  (0, 3065)\t0.22208377802661425\n",
            "  (0, 5836)\t0.1646750903586285\n",
            "  (0, 14378)\t0.33962752210959823\n",
            "  (0, 16587)\t0.12549432354918996\n",
            "  (0, 3225)\t0.24960162956997736\n",
            "  (0, 14271)\t0.21392179219912877\n",
            "  (0, 4945)\t0.24025852494110758\n",
            "  (0, 15261)\t0.07095833561276566\n",
            "  (0, 16998)\t0.1282126322850579\n",
            "  (0, 11192)\t0.09049319826481456\n",
            "  (0, 11503)\t0.27211310056983656\n",
            "  (0, 13349)\t0.15021264094167086\n",
            "  (0, 17007)\t0.23643326319898797\n",
            "  (0, 17290)\t0.20197912553916567\n",
            "  (0, 13319)\t0.2177470539412484\n",
            "  (0, 14064)\t0.20596090415084142\n",
            "  (0, 16668)\t0.19843263965100372\n",
            "  (0, 14608)\t0.15150672398763912\n",
            "  (0, 8756)\t0.22709015857011816\n",
            "  :\t:\n",
            "  (4801, 403)\t0.17727585190343229\n",
            "  (4801, 4835)\t0.24713765026964\n",
            "  (4801, 17266)\t0.28860981849329476\n",
            "  (4801, 13835)\t0.27870029291200094\n",
            "  (4801, 13175)\t0.28860981849329476\n",
            "  (4801, 17150)\t0.3025765103586468\n",
            "  (4801, 3511)\t0.3025765103586468\n",
            "  (4801, 13948)\t0.3025765103586468\n",
            "  (4801, 7269)\t0.3025765103586468\n",
            "  (4802, 11161)\t0.17867407682173203\n",
            "  (4802, 4518)\t0.16784466610624255\n",
            "  (4802, 2129)\t0.3099656128577656\n",
            "  (4802, 4980)\t0.16078053641367315\n",
            "  (4802, 6155)\t0.18056463596934083\n",
            "  (4802, 3436)\t0.21753405888348784\n",
            "  (4802, 4528)\t0.19504460807622875\n",
            "  (4802, 1316)\t0.1960747079005741\n",
            "  (4802, 12989)\t0.1696476532191718\n",
            "  (4802, 4371)\t0.1538239182675544\n",
            "  (4802, 6417)\t0.21753405888348784\n",
            "  (4802, 4608)\t0.24002350969074696\n",
            "  (4802, 2425)\t0.24002350969074696\n",
            "  (4802, 3654)\t0.262512960498006\n",
            "  (4802, 5367)\t0.22969114490410403\n",
            "  (4802, 6996)\t0.5700048226105303\n"
          ]
        }
      ]
    },
    {
      "cell_type": "markdown",
      "source": [
        "Measuring Similarities"
      ],
      "metadata": {
        "id": "LnIBKrSLw40v"
      }
    },
    {
      "cell_type": "code",
      "source": [
        "similarity = cosine_similarity(df2)\n",
        "print(similarity)"
      ],
      "metadata": {
        "colab": {
          "base_uri": "https://localhost:8080/"
        },
        "id": "WV-E-4xFrzrx",
        "outputId": "ebec2ede-fdcc-4e88-a700-ff24fafc8ce3"
      },
      "execution_count": null,
      "outputs": [
        {
          "output_type": "stream",
          "name": "stdout",
          "text": [
            "[[1.         0.07219487 0.037733   ... 0.         0.         0.        ]\n",
            " [0.07219487 1.         0.03281499 ... 0.03575545 0.         0.        ]\n",
            " [0.037733   0.03281499 1.         ... 0.         0.05389661 0.        ]\n",
            " ...\n",
            " [0.         0.03575545 0.         ... 1.         0.         0.02651502]\n",
            " [0.         0.         0.05389661 ... 0.         1.         0.        ]\n",
            " [0.         0.         0.         ... 0.02651502 0.         1.        ]]\n"
          ]
        }
      ]
    },
    {
      "cell_type": "code",
      "source": [
        "print(similarity.shape)"
      ],
      "metadata": {
        "colab": {
          "base_uri": "https://localhost:8080/"
        },
        "id": "EsPb4Fx5trjg",
        "outputId": "b14e6d43-2c0a-493e-e1d0-5f0e19aa7415"
      },
      "execution_count": null,
      "outputs": [
        {
          "output_type": "stream",
          "name": "stdout",
          "text": [
            "(4803, 4803)\n"
          ]
        }
      ]
    },
    {
      "cell_type": "markdown",
      "source": [
        "Asking user for the input data"
      ],
      "metadata": {
        "id": "gHpL_391w-pd"
      }
    },
    {
      "cell_type": "code",
      "source": [
        "movie_name = input(' Enter the name of your favourite movie: ')"
      ],
      "metadata": {
        "colab": {
          "base_uri": "https://localhost:8080/"
        },
        "id": "CKKLez8Xt_2I",
        "outputId": "35510c1d-d7c1-49e8-c279-6f233d014d7e"
      },
      "execution_count": null,
      "outputs": [
        {
          "name": "stdout",
          "output_type": "stream",
          "text": [
            " Enter the name of your favourite movie: batman\n"
          ]
        }
      ]
    },
    {
      "cell_type": "code",
      "source": [
        "list_of_all_titles = df['title'].tolist()\n",
        "print(list_of_all_titles[0:100])"
      ],
      "metadata": {
        "colab": {
          "base_uri": "https://localhost:8080/"
        },
        "id": "RkBPA_x_uSer",
        "outputId": "44251283-f6af-4eb8-972e-eba2b49b2306"
      },
      "execution_count": 42,
      "outputs": [
        {
          "output_type": "stream",
          "name": "stdout",
          "text": [
            "['Avatar', \"Pirates of the Caribbean: At World's End\", 'Spectre', 'The Dark Knight Rises', 'John Carter', 'Spider-Man 3', 'Tangled', 'Avengers: Age of Ultron', 'Harry Potter and the Half-Blood Prince', 'Batman v Superman: Dawn of Justice', 'Superman Returns', 'Quantum of Solace', \"Pirates of the Caribbean: Dead Man's Chest\", 'The Lone Ranger', 'Man of Steel', 'The Chronicles of Narnia: Prince Caspian', 'The Avengers', 'Pirates of the Caribbean: On Stranger Tides', 'Men in Black 3', 'The Hobbit: The Battle of the Five Armies', 'The Amazing Spider-Man', 'Robin Hood', 'The Hobbit: The Desolation of Smaug', 'The Golden Compass', 'King Kong', 'Titanic', 'Captain America: Civil War', 'Battleship', 'Jurassic World', 'Skyfall', 'Spider-Man 2', 'Iron Man 3', 'Alice in Wonderland', 'X-Men: The Last Stand', 'Monsters University', 'Transformers: Revenge of the Fallen', 'Transformers: Age of Extinction', 'Oz: The Great and Powerful', 'The Amazing Spider-Man 2', 'TRON: Legacy', 'Cars 2', 'Green Lantern', 'Toy Story 3', 'Terminator Salvation', 'Furious 7', 'World War Z', 'X-Men: Days of Future Past', 'Star Trek Into Darkness', 'Jack the Giant Slayer', 'The Great Gatsby', 'Prince of Persia: The Sands of Time', 'Pacific Rim', 'Transformers: Dark of the Moon', 'Indiana Jones and the Kingdom of the Crystal Skull', 'The Good Dinosaur', 'Brave', 'Star Trek Beyond', 'WALL·E', 'Rush Hour 3', '2012', 'A Christmas Carol', 'Jupiter Ascending', 'The Legend of Tarzan', 'The Chronicles of Narnia: The Lion, the Witch and the Wardrobe', 'X-Men: Apocalypse', 'The Dark Knight', 'Up', 'Monsters vs Aliens', 'Iron Man', 'Hugo', 'Wild Wild West', 'The Mummy: Tomb of the Dragon Emperor', 'Suicide Squad', 'Evan Almighty', 'Edge of Tomorrow', 'Waterworld', 'G.I. Joe: The Rise of Cobra', 'Inside Out', 'The Jungle Book', 'Iron Man 2', 'Snow White and the Huntsman', 'Maleficent', 'Dawn of the Planet of the Apes', 'The Lovers', '47 Ronin', 'Captain America: The Winter Soldier', 'Shrek Forever After', 'Tomorrowland', 'Big Hero 6', 'Wreck-It Ralph', 'The Polar Express', 'Independence Day: Resurgence', 'How to Train Your Dragon', 'Terminator 3: Rise of the Machines', 'Guardians of the Galaxy', 'Interstellar', 'Inception', 'Shin Godzilla', 'The Hobbit: An Unexpected Journey', 'The Fast and the Furious']\n"
          ]
        }
      ]
    },
    {
      "cell_type": "markdown",
      "source": [
        "using difflib librabry to compare string and get the best results"
      ],
      "metadata": {
        "id": "0xwXKUX6xC-Q"
      }
    },
    {
      "cell_type": "code",
      "source": [
        "#using difflib librabry to compare string and get the best results\n",
        "find_close_match = difflib.get_close_matches(movie_name,list_of_all_titles)\n",
        "print(find_close_match)"
      ],
      "metadata": {
        "colab": {
          "base_uri": "https://localhost:8080/"
        },
        "id": "WkYre6q5uZez",
        "outputId": "9d83dc60-6e02-4834-c398-fbaccc74bbd6"
      },
      "execution_count": null,
      "outputs": [
        {
          "output_type": "stream",
          "name": "stdout",
          "text": [
            "['Batman', 'Batman', 'Catwoman']\n"
          ]
        }
      ]
    },
    {
      "cell_type": "code",
      "source": [
        "close_match = find_close_match[0]\n",
        "print(close_match)"
      ],
      "metadata": {
        "colab": {
          "base_uri": "https://localhost:8080/"
        },
        "id": "Xi5NcBGGu6UP",
        "outputId": "8304f7db-f15d-4d20-b67d-5dd2a4d3a30a"
      },
      "execution_count": null,
      "outputs": [
        {
          "output_type": "stream",
          "name": "stdout",
          "text": [
            "Batman\n"
          ]
        }
      ]
    },
    {
      "cell_type": "markdown",
      "source": [
        "Finding the index of the movie"
      ],
      "metadata": {
        "id": "o27Jj0cWxHtG"
      }
    },
    {
      "cell_type": "code",
      "source": [
        "index_of_movie=df[df.title==close_match]['index'].values[0]\n",
        "print(index_of_movie)"
      ],
      "metadata": {
        "colab": {
          "base_uri": "https://localhost:8080/"
        },
        "id": "VOyODjGjvzoI",
        "outputId": "b2e64df0-8049-4674-f97d-e2e7fb5a9665"
      },
      "execution_count": null,
      "outputs": [
        {
          "output_type": "stream",
          "name": "stdout",
          "text": [
            "1359\n"
          ]
        }
      ]
    },
    {
      "cell_type": "code",
      "source": [
        "similarity_score = list(enumerate(similarity[index_of_movie]))\n",
        "print(similarity_score)"
      ],
      "metadata": {
        "colab": {
          "base_uri": "https://localhost:8080/"
        },
        "id": "pThkHma2wgQI",
        "outputId": "a3bf6dce-5cb1-49bb-c682-7afe7cd5e5c6"
      },
      "execution_count": null,
      "outputs": [
        {
          "output_type": "stream",
          "name": "stdout",
          "text": [
            "[(0, 0.025315122697371115), (1, 0.049832930643991497), (2, 0.013599520029326729), (3, 0.20438773732168228), (4, 0.024929726723526918), (5, 0.11533013884014888), (6, 0.0), (7, 0.005521938648290495), (8, 0.030934935200526422), (9, 0.08976169961638153), (10, 0.1124085019852625), (11, 0.011808001891564553), (12, 0.03825857693295372), (13, 0.013263747027865664), (14, 0.12815026535769383), (15, 0.010432758242497994), (16, 0.005235971636780311), (17, 0.01601669810036477), (18, 0.041538815515852534), (19, 0.02968626711977731), (20, 0.02521005401012206), (21, 0.004591239318101996), (22, 0.01792276874908081), (23, 0.024870438166594427), (24, 0.041865507456289), (25, 0.0), (26, 0.005699120907668438), (27, 0.013106673998149269), (28, 0.014389581335300713), (29, 0.005723805699010055), (30, 0.11336219425554916), (31, 0.02290308453698018), (32, 0.0899394677673743), (33, 0.005487629188043742), (34, 0.0), (35, 0.02579241665117428), (36, 0.04323488875573722), (37, 0.02207310001278027), (38, 0.016735251293804827), (39, 0.037339683129110644), (40, 0.029604400185067402), (41, 0.1065015460468872), (42, 0.07244022042935871), (43, 0.023689369843914104), (44, 0.0058968657050878295), (45, 0.004962729367343318), (46, 0.05119279389322903), (47, 0.006056967859003828), (48, 0.016801838875295835), (49, 0.007462062943836138), (50, 0.02447364757740374), (51, 0.004490688090626269), (52, 0.030182454701075438), (53, 0.024852760467374575), (54, 0.03828218609837594), (55, 0.005755274570173456), (56, 0.006136094904267454), (57, 0.009917061156672187), (58, 0.025146268236415706), (59, 0.01358861630969206), (60, 0.0), (61, 0.016350150026113765), (62, 0.005416634534426565), (63, 0.01833889030024455), (64, 0.02840489403523125), (65, 0.17755815066113925), (66, 0.017948741607038132), (67, 0.0), (68, 0.005130123069684274), (69, 0.01618329334393077), (70, 0.005371331822946504), (71, 0.02155588214003059), (72, 0.12266571244563479), (73, 0.04415940718548016), (74, 0.005495141965586582), (75, 0.022057119691207824), (76, 0.005516189273301242), (77, 0.008716823552559781), (78, 0.012046810653425794), (79, 0.02911392862615203), (80, 0.021484671239332995), (81, 0.02794528136793173), (82, 0.005768273050442059), (83, 0.019994216200751452), (84, 0.013308886706222196), (85, 0.017148934252787445), (86, 0.009327381057907095), (87, 0.0), (88, 0.014079698000279715), (89, 0.025715410181997158), (90, 0.029108208423514016), (91, 0.005291140630302695), (92, 0.01134125104519998), (93, 0.02241215665416583), (94, 0.005318310294658279), (95, 0.025648894216477994), (96, 0.03097291388389124), (97, 0.004252359556894674), (98, 0.032193726743405454), (99, 0.02614760901614129), (100, 0.04263848763117278), (101, 0.0359840483687721), (102, 0.015251059855876558), (103, 0.054354666030584614), (104, 0.0055891707934778816), (105, 0.02119994427869696), (106, 0.01148195449626371), (107, 0.01737021995321565), (108, 0.023241981578083354), (109, 0.021776146296002163), (110, 0.01663593844713563), (111, 0.0258684607818202), (112, 0.01422619779516028), (113, 0.039521340648464964), (114, 0.02742976146472844), (115, 0.029205437008730902), (116, 0.03348693881888545), (117, 0.060492562884146284), (118, 0.010185051615491632), (119, 0.1926252875715041), (120, 0.008755244893174786), (121, 0.032179098673227186), (122, 0.015566153510035626), (123, 0.013352335707811847), (124, 0.007921651394546356), (125, 0.013144997885444099), (126, 0.023353967193491126), (127, 0.0057600906412345766), (128, 0.0), (129, 0.016575346595157213), (130, 0.0), (131, 0.027274655479987198), (132, 0.008212602697406698), (133, 0.06520592100431849), (134, 0.0051625316423586885), (135, 0.02868261916813157), (136, 0.0), (137, 0.030777374487734807), (138, 0.015637725129214016), (139, 0.03565072498219697), (140, 0.014817222177109362), (141, 0.0), (142, 0.0), (143, 0.01125008459005959), (144, 0.0), (145, 0.0), (146, 0.0), (147, 0.004926143004899927), (148, 0.026548302600447146), (149, 0.040859384321747905), (150, 0.03821300742584273), (151, 0.005321016206774112), (152, 0.03331446270419186), (153, 0.005104759932632072), (154, 0.02086173288361462), (155, 0.0), (156, 0.043192368499795894), (157, 0.0057488572765906545), (158, 0.015178542794596593), (159, 0.03514905655970911), (160, 0.02545610933295729), (161, 0.018248598639931543), (162, 0.017508564372075104), (163, 0.09490815555089475), (164, 0.05766352814275296), (165, 0.015898883695491906), (166, 0.006403384496392318), (167, 0.005536191629212128), (168, 0.015630626662545385), (169, 0.005393553666615687), (170, 0.04326245270424656), (171, 0.034003432577698174), (172, 0.019057091235472563), (173, 0.0), (174, 0.05055026688169773), (175, 0.02848895697576779), (176, 0.008199725823514695), (177, 0.020029123423841617), (178, 0.009357441930127651), (179, 0.009209159657810566), (180, 0.005863964523086625), (181, 0.02165289386980819), (182, 0.02353656978819378), (183, 0.027644775352911856), (184, 0.03493917823417467), (185, 0.020383042371195828), (186, 0.044596163276250586), (187, 0.015534134534279168), (188, 0.005544672081248339), (189, 0.029483754762681287), (190, 0.009400608706250087), (191, 0.019075801251320162), (192, 0.0), (193, 0.005764152853658988), (194, 0.03175671421104141), (195, 0.01867767015552487), (196, 0.05087235018473587), (197, 0.029247490732645518), (198, 0.03375900347580054), (199, 0.041273837846091746), (200, 0.01967229188854154), (201, 0.009612871394229363), (202, 0.0), (203, 0.013006617597419886), (204, 0.022130509457295236), (205, 0.02298215684826604), (206, 0.015104619651285128), (207, 0.07517731687148191), (208, 0.024198973149582487), (209, 0.00563806535487241), (210, 0.2573799982085963), (211, 0.02982390826371068), (212, 0.02324123457380759), (213, 0.04328647825815964), (214, 0.009119664204350115), (215, 0.07731781359499822), (216, 0.013308904195041412), (217, 0.06365812644026905), (218, 0.01820775128152958), (219, 0.04387257819758032), (220, 0.024925248865578585), (221, 0.02007494782786674), (222, 0.00566196735623046), (223, 0.04298330016886992), (224, 0.0638109363617421), (225, 0.006093588113836094), (226, 0.08009811585333676), (227, 0.005390690104302215), (228, 0.005143517638008635), (229, 0.014714592345297872), (230, 0.004295515025137371), (231, 0.0), (232, 0.01486609562116387), (233, 0.00448643551001502), (234, 0.02033292797525231), (235, 0.010103203247825286), (236, 0.0055122527147463355), (237, 0.013407097722261084), (238, 0.02426903109788739), (239, 0.009026133708670711), (240, 0.014590868411120441), (241, 0.015876309856328475), (242, 0.025962800252166136), (243, 0.029701759296252916), (244, 0.004606293916228297), (245, 0.02109141136785831), (246, 0.0050868765893401805), (247, 0.015604601725429042), (248, 0.03215955008792736), (249, 0.010041233622224933), (250, 0.024614411005019904), (251, 0.022273569326579243), (252, 0.022527942902764643), (253, 0.004581957148163642), (254, 0.029239376625772966), (255, 0.0), (256, 0.008859149559609284), (257, 0.015269302690415787), (258, 0.010689688422080963), (259, 0.020694082901925585), (260, 0.005392803407541182), (261, 0.01643604371068365), (262, 0.01600853249418035), (263, 0.005318416540504532), (264, 0.01797732495165702), (265, 0.04045462921658721), (266, 0.005529500831600526), (267, 0.03471266703488135), (268, 0.03934041770092239), (269, 0.03592596428678005), (270, 0.02047072608286063), (271, 0.04205829367344874), (272, 0.03156561287301673), (273, 0.012493730297180943), (274, 0.005856357216856913), (275, 0.023014048840393337), (276, 0.030035534861912905), (277, 0.005460965070966977), (278, 0.12996260715124028), (279, 0.026139750727758506), (280, 0.026059654002839903), (281, 0.015966624687110288), (282, 0.00488503499947371), (283, 0.006545138429275422), (284, 0.010047441739921288), (285, 0.03771237430169859), (286, 0.005489881771352673), (287, 0.02273805394855659), (288, 0.0), (289, 0.010432408278814776), (290, 0.01599797560237545), (291, 0.037855270482193434), (292, 0.029637035409404967), (293, 0.03850735689533656), (294, 0.023311791752251575), (295, 0.029150304221924946), (296, 0.02645956791314359), (297, 0.015718856581113383), (298, 0.008197472011264731), (299, 0.10154632458465615), (300, 0.011906750449291664), (301, 0.0), (302, 0.010708044933990125), (303, 0.0988393778983163), (304, 0.005147368420567504), (305, 0.04876645858500154), (306, 0.013993128616778198), (307, 0.005291568896276649), (308, 0.018923879128913516), (309, 0.012447534711356482), (310, 0.01409982343454398), (311, 0.011388881674615162), (312, 0.004786517934094847), (313, 0.007900242606542415), (314, 0.03779388023290208), (315, 0.030148920668698054), (316, 0.027439128948452057), (317, 0.0), (318, 0.02484370068577551), (319, 0.03973736386791703), (320, 0.005477018533892579), (321, 0.008500313679377706), (322, 0.016956729892305192), (323, 0.0607910339666117), (324, 0.03378259844361217), (325, 0.0), (326, 0.01988992886308015), (327, 0.03549957139397144), (328, 0.015678536654377837), (329, 0.033503354149284834), (330, 0.016471203129028878), (331, 0.03519813630133888), (332, 0.020559468783685246), (333, 0.0), (334, 0.02283397633221014), (335, 0.0054267002038618254), (336, 0.0192215086758088), (337, 0.00357603374597536), (338, 0.010071041240774268), (339, 0.03274058500809053), (340, 0.017904003766269102), (341, 0.010410592276632605), (342, 0.05232110588872814), (343, 0.055754153391077026), (344, 0.004527095216613905), (345, 0.014815714442063395), (346, 0.007930631777048608), (347, 0.0), (348, 0.009826441016833734), (349, 0.010264052945856732), (350, 0.022061634090390726), (351, 0.08174380966331446), (352, 0.01632531881971601), (353, 0.028830612918124995), (354, 0.02809255601204196), (355, 0.005717869525329317), (356, 0.013682520917539968), (357, 0.021209560048322407), (358, 0.04953017166364855), (359, 0.0), (360, 0.0), (361, 0.01399571574610273), (362, 0.005874135890534837), (363, 0.0), (364, 0.046272871422418), (365, 0.0), (366, 0.054515529136516035), (367, 0.016323992554575017), (368, 0.009286540367566895), (369, 0.02755499186684602), (370, 0.023780162867383586), (371, 0.011325432089566354), (372, 0.04800959604619219), (373, 0.03668963121270457), (374, 0.020433371520806647), (375, 0.0), (376, 0.013490994569417328), (377, 0.012446451794775808), (378, 0.0), (379, 0.013866184674915518), (380, 0.020445412922726842), (381, 0.019973245359529393), (382, 0.008727217872332388), (383, 0.013425762087526855), (384, 0.01743346319543433), (385, 0.0), (386, 0.02965908189547961), (387, 0.023127653059049583), (388, 0.029349217128257256), (389, 0.015121335493388541), (390, 0.01091824586575766), (391, 0.00992963455239972), (392, 0.005170723532574396), (393, 0.03926398816349792), (394, 0.005491572077857566), (395, 0.01769894802791771), (396, 0.043063075630017204), (397, 0.0), (398, 0.01657709368003764), (399, 0.0), (400, 0.022379891670723233), (401, 0.0), (402, 0.014081291604134658), (403, 0.032827053531317485), (404, 0.0), (405, 0.017228008857348275), (406, 0.034700585101405584), (407, 0.022082253077502827), (408, 0.02595533830377956), (409, 0.005787379153185331), (410, 0.018426262979998685), (411, 0.025665699806897833), (412, 0.013282417846038267), (413, 0.02032087778369923), (414, 0.007558294459328723), (415, 0.050194722094449765), (416, 0.01950646882338211), (417, 0.07154871800648288), (418, 0.0), (419, 0.03227370424411756), (420, 0.01917965793095018), (421, 0.022237855115106567), (422, 0.06660418021192085), (423, 0.022164506254997104), (424, 0.005363999198083402), (425, 0.015709173817807266), (426, 0.05387121165126171), (427, 0.008950276812039562), (428, 0.4311643836232694), (429, 0.007639094433465507), (430, 0.0), (431, 0.01955906316172861), (432, 0.005354651274163252), (433, 0.024284594182904712), (434, 0.030463968157348385), (435, 0.011194417840764729), (436, 0.0), (437, 0.01590777991169557), (438, 0.10277392559139562), (439, 0.0), (440, 0.009476661648551309), (441, 0.019338156232543872), (442, 0.01997256422917574), (443, 0.009725944990768265), (444, 0.040467513223401114), (445, 0.0), (446, 0.043751045863748145), (447, 0.054286746754300244), (448, 0.031068559001450124), (449, 0.02617936780109152), (450, 0.009793441405616655), (451, 0.010633205817964796), (452, 0.025450151876301924), (453, 0.01386394845861327), (454, 0.015144202105173019), (455, 0.005320094859069555), (456, 0.022345641402421373), (457, 0.014865335307116024), (458, 0.013864825269116102), (459, 0.0), (460, 0.0), (461, 0.0), (462, 0.0), (463, 0.01948577981441078), (464, 0.0), (465, 0.0), (466, 0.015672308326365788), (467, 0.018381152902655365), (468, 0.022516258135385346), (469, 0.012973204775475543), (470, 0.040142637072399304), (471, 0.009238062231059729), (472, 0.015751681648498644), (473, 0.13217075714794208), (474, 0.0), (475, 0.01208595098449301), (476, 0.035098251043391517), (477, 0.009475612365586384), (478, 0.005388684767264902), (479, 0.020305875414362677), (480, 0.07657647328497884), (481, 0.013549442607797262), (482, 0.0), (483, 0.020678981721570955), (484, 0.042792739569165544), (485, 0.01752986107581509), (486, 0.015608380179554501), (487, 0.004688304126411212), (488, 0.0184307721862186), (489, 0.012767945945677046), (490, 0.005263014548414424), (491, 0.004704414911315268), (492, 0.0), (493, 0.014182387449480029), (494, 0.04150345826328172), (495, 0.023187014523033456), (496, 0.0), (497, 0.019131469790203838), (498, 0.0), (499, 0.030802219590188133), (500, 0.021931087102158506), (501, 0.02019443322144053), (502, 0.0), (503, 0.028558335212354187), (504, 0.0), (505, 0.03293303935987979), (506, 0.01040546758365313), (507, 0.005304626448524463), (508, 0.005435696902570209), (509, 0.0), (510, 0.041351079199552054), (511, 0.005574324286548584), (512, 0.01394099704042406), (513, 0.05055583004821955), (514, 0.006629023158113295), (515, 0.007771177787962552), (516, 0.02694809922921134), (517, 0.008449304195879297), (518, 0.04743670355350071), (519, 0.006978277182249831), (520, 0.0), (521, 0.01466127530007858), (522, 0.0), (523, 0.014448825923945759), (524, 0.009841838523789634), (525, 0.031164697303354742), (526, 0.0), (527, 0.02149067133338399), (528, 0.0313278651619596), (529, 0.00484842118779606), (530, 0.005930164405386324), (531, 0.013124236295722512), (532, 0.0), (533, 0.020607458605063626), (534, 0.023985316166857368), (535, 0.013063006814410263), (536, 0.024709079565036842), (537, 0.024277681934706148), (538, 0.007693854925330784), (539, 0.015620166799028123), (540, 0.006985241536664359), (541, 0.004322577816940619), (542, 0.031167799673433385), (543, 0.013606161618896835), (544, 0.014074472742619292), (545, 0.0), (546, 0.04812265039724559), (547, 0.03811071415071551), (548, 0.007368097391411546), (549, 0.03234776276810046), (550, 0.0), (551, 0.0), (552, 0.0), (553, 0.015596772165942515), (554, 0.027336465415042144), (555, 0.028835549065099268), (556, 0.031050097534936587), (557, 0.008878020794158493), (558, 0.007854466424362891), (559, 0.012146856076258003), (560, 0.026948105474084952), (561, 0.0), (562, 0.0), (563, 0.0201011947957557), (564, 0.0), (565, 0.02228676521747925), (566, 0.007898156343199089), (567, 0.010326604547687784), (568, 0.00521079049016164), (569, 0.0), (570, 0.005399126993304583), (571, 0.03166578323334292), (572, 0.02130485733603721), (573, 0.005702788084032725), (574, 0.031750919796905044), (575, 0.009954181271995426), (576, 0.009371555126477136), (577, 0.013133421388185493), (578, 0.0511804826465664), (579, 0.004063687013663969), (580, 0.005132187938716139), (581, 0.06028745762562315), (582, 0.013506406082665956), (583, 0.07617125404896877), (584, 0.09484559891817564), (585, 0.011504377423919045), (586, 0.02114556118401161), (587, 0.05995414566282306), (588, 0.03378082304368311), (589, 0.016147977558358416), (590, 0.012689566244122208), (591, 0.020933909686590944), (592, 0.015503618061031099), (593, 0.0), (594, 0.005463707592966443), (595, 0.00488185450288807), (596, 0.00558119827048137), (597, 0.03485199393305005), (598, 0.0), (599, 0.0), (600, 0.01678281217245045), (601, 0.005876017634106432), (602, 0.005978906295761177), (603, 0.023608559652421243), (604, 0.0052879438473001465), (605, 0.011649660850616457), (606, 0.03537493558252818), (607, 0.005396861321667464), (608, 0.042713992354179386), (609, 0.005622055082906893), (610, 0.004863843383905942), (611, 0.0048829783439722175), (612, 0.034316930516211534), (613, 0.029439799478706986), (614, 0.014294918009758842), (615, 0.020097533839594256), (616, 0.0), (617, 0.024580834806846433), (618, 0.02157815435944521), (619, 0.0), (620, 0.03566144950261055), (621, 0.0048945570974228084), (622, 0.0055091711613847), (623, 0.0), (624, 0.023256724026578128), (625, 0.008928547813392097), (626, 0.009848353733926413), (627, 0.025374921909953642), (628, 0.008093863499275534), (629, 0.01084866062475912), (630, 0.00757265067944745), (631, 0.019153498371042826), (632, 0.0), (633, 0.030822554147819863), (634, 0.022287428292966156), (635, 0.025117998488447868), (636, 0.04807695168680448), (637, 0.0), (638, 0.03966400128152062), (639, 0.0), (640, 0.005188852949417255), (641, 0.0), (642, 0.019577654785027487), (643, 0.014055241400417404), (644, 0.03288495795270681), (645, 0.005550054924716862), (646, 0.03263267753825964), (647, 0.02475835604548827), (648, 0.008196215056085683), (649, 0.0), (650, 0.012065445896039922), (651, 0.014891096654578051), (652, 0.015607602337934932), (653, 0.0053614195427355614), (654, 0.014802947264353612), (655, 0.005787221876754231), (656, 0.017150264577157057), (657, 0.014698218217661398), (658, 0.018314827903677732), (659, 0.013248174799739281), (660, 0.006890886527673485), (661, 0.0328431484341083), (662, 0.06458915958920405), (663, 0.009717456721416709), (664, 0.024311299603893725), (665, 0.044432466036149254), (666, 0.03570198060032458), (667, 0.007758480670631074), (668, 0.015867133047224577), (669, 0.008476776832315625), (670, 0.03249259788439775), (671, 0.008139658583143746), (672, 0.028080516396443978), (673, 0.026391236015151934), (674, 0.03582540316592312), (675, 0.01787172110914862), (676, 0.022896476422471015), (677, 0.022081994233331025), (678, 0.02628436556703755), (679, 0.015105481998467927), (680, 0.013446993996021294), (681, 0.08543127346751898), (682, 0.0), (683, 0.01878342966515282), (684, 0.006869323823112697), (685, 0.0054155705046102535), (686, 0.017426281858129337), (687, 0.005139584849282332), (688, 0.0), (689, 0.010230918975361564), (690, 0.03851770236770985), (691, 0.03149943434722696), (692, 0.007853698558792655), (693, 0.018825644668711033), (694, 0.04587601234144584), (695, 0.026427326406438734), (696, 0.017964598586746868), (697, 0.008979715217794245), (698, 0.009562708219702468), (699, 0.0), (700, 0.013074717794687534), (701, 0.0), (702, 0.023585376006270777), (703, 0.0), (704, 0.0), (705, 0.0), (706, 0.0199623864244022), (707, 0.0), (708, 0.02094691260841528), (709, 0.0), (710, 0.02759993981998052), (711, 0.0112090396051443), (712, 0.0), (713, 0.0), (714, 0.027020365506240755), (715, 0.041209809844106826), (716, 0.01502579758103098), (717, 0.01700032147721337), (718, 0.01914861485789185), (719, 0.02509889393850419), (720, 0.008818675724175216), (721, 0.03265489521282249), (722, 0.00955041484262565), (723, 0.007322232782478983), (724, 0.012904924977953917), (725, 0.02015703632859361), (726, 0.01720298216635047), (727, 0.0), (728, 0.022722227379584077), (729, 0.0), (730, 0.007505541392708739), (731, 0.07147485828132957), (732, 0.015874927643149427), (733, 0.021511382902596528), (734, 0.0), (735, 0.011203923491842288), (736, 0.027711499197496863), (737, 0.005390453411546613), (738, 0.0), (739, 0.06293449312413521), (740, 0.02531625152582345), (741, 0.030197133885458027), (742, 0.009515795367247294), (743, 0.02629418352787462), (744, 0.02432844339699623), (745, 0.014296427336469884), (746, 0.03230474115794068), (747, 0.013342619881024958), (748, 0.0421568017329319), (749, 0.0), (750, 0.01820941311825481), (751, 0.007755791810942698), (752, 0.01581818240640955), (753, 0.13216136203404205), (754, 0.011638460113210685), (755, 0.05870570366461371), (756, 0.0075140585682151465), (757, 0.025040447632417206), (758, 0.017760025247642416), (759, 0.01799579972299672), (760, 0.019689159848395553), (761, 0.028394240042822167), (762, 0.04094856007215815), (763, 0.03362588358461441), (764, 0.011441669954161434), (765, 0.0), (766, 0.039806766722752636), (767, 0.022176230603847578), (768, 0.016231639482474778), (769, 0.02665485683832522), (770, 0.0), (771, 0.009522138250825735), (772, 0.017272993835506116), (773, 0.006091232198774619), (774, 0.07520276566249046), (775, 0.017008417501123967), (776, 0.011474268733619224), (777, 0.036960669106148224), (778, 0.0), (779, 0.05259835223293688), (780, 0.0), (781, 0.035262539448534726), (782, 0.04684563840327668), (783, 0.0), (784, 0.0173923402411557), (785, 0.01401254306820612), (786, 0.017540064752089086), (787, 0.011955280484410663), (788, 0.03219195497258178), (789, 0.008346563812418268), (790, 0.023255012007745733), (791, 0.04537700214351006), (792, 0.009988465935533026), (793, 0.0), (794, 0.018516917064486587), (795, 0.008189520966561724), (796, 0.0), (797, 0.01080633614892827), (798, 0.0), (799, 0.02848573744709975), (800, 0.06953224882098634), (801, 0.0), (802, 0.007997915371082897), (803, 0.023225584152682936), (804, 0.013295202587327764), (805, 0.01487731647798404), (806, 0.03439004428669594), (807, 0.014812082647965255), (808, 0.005373539761798156), (809, 0.031082492523462464), (810, 0.03126795813663997), (811, 0.008666754761311112), (812, 0.013532913444182677), (813, 0.1441412830396247), (814, 0.009917013842729683), (815, 0.019008907792410646), (816, 0.0), (817, 0.0), (818, 0.005623551909990201), (819, 0.0), (820, 0.011006599615256178), (821, 0.03192814897030172), (822, 0.02751652787278477), (823, 0.005378680108069033), (824, 0.0), (825, 0.03569628762332946), (826, 0.058587748976512234), (827, 0.05865155475813216), (828, 0.02278498008715961), (829, 0.009694072031898334), (830, 0.04368824829368256), (831, 0.04140806316101746), (832, 0.04420586787560894), (833, 0.0216564241979828), (834, 0.005518430748913459), (835, 0.0), (836, 0.05743473075906322), (837, 0.0), (838, 0.015056916048470148), (839, 0.015031364666698271), (840, 0.012347004920151214), (841, 0.02969507665760101), (842, 0.03141126738894342), (843, 0.0), (844, 0.013035984977621694), (845, 0.0), (846, 0.03143139665568866), (847, 0.01609259766631261), (848, 0.014848207460403377), (849, 0.0077578229151192305), (850, 0.005332021757716764), (851, 0.018831098427339557), (852, 0.026043787592992498), (853, 0.0), (854, 0.020651091114809082), (855, 0.007905395000716884), (856, 0.030627841018696887), (857, 0.00898777354115968), (858, 0.02660005427399153), (859, 0.01406718899563092), (860, 0.0), (861, 0.0), (862, 0.025889571270560203), (863, 0.0056050268503635555), (864, 0.015095832941339711), (865, 0.01634345188891536), (866, 0.014754508269122606), (867, 0.04611844113646047), (868, 0.0), (869, 0.037335523784109315), (870, 0.10722005407914786), (871, 0.022845843248684217), (872, 0.0), (873, 0.022294294272584288), (874, 0.016149801713601915), (875, 0.009174571216758421), (876, 0.007683772968695575), (877, 0.017236054816731523), (878, 0.0), (879, 0.016483127455269), (880, 0.06391064887633026), (881, 0.02672035542025808), (882, 0.01426290745322866), (883, 0.016055388176434853), (884, 0.02069524992863983), (885, 0.0), (886, 0.017597153024730684), (887, 0.0), (888, 0.0052479795926495135), (889, 0.0), (890, 0.0), (891, 0.0), (892, 0.016697122039663805), (893, 0.012315931792271877), (894, 0.014344007397738025), (895, 0.0), (896, 0.034300388296503094), (897, 0.00920158133522613), (898, 0.020345862019732805), (899, 0.020258539852295893), (900, 0.0), (901, 0.022565899290327953), (902, 0.0), (903, 0.02228764760119481), (904, 0.07665815430587022), (905, 0.019615554558008553), (906, 0.0), (907, 0.0), (908, 0.0), (909, 0.0), (910, 0.008562719824375382), (911, 0.013533002154688882), (912, 0.0), (913, 0.0), (914, 0.01266440931111332), (915, 0.014172443789618369), (916, 0.0), (917, 0.022329315902897218), (918, 0.029370135798943195), (919, 0.013982166900445563), (920, 0.04162113635621227), (921, 0.0), (922, 0.01402284754947894), (923, 0.026737792232875084), (924, 0.009004915710337635), (925, 0.0), (926, 0.0), (927, 0.02274077420912185), (928, 0.010956482890816459), (929, 0.028892795434023982), (930, 0.02092726424669351), (931, 0.020329834265032133), (932, 0.011805561898974404), (933, 0.023829904876997883), (934, 0.02496337517711991), (935, 0.06369827265131431), (936, 0.01973580193674106), (937, 0.01482783282084929), (938, 0.01813461236458688), (939, 0.0440147245600844), (940, 0.0), (941, 0.02875998005156547), (942, 0.009198503282832091), (943, 0.02079607967619138), (944, 0.008039673761352435), (945, 0.005304072052753753), (946, 0.04690419049379716), (947, 0.03256091563095446), (948, 0.01650860552222675), (949, 0.008816437791937597), (950, 0.011552700370816793), (951, 0.005270744600501487), (952, 0.014337502799936806), (953, 0.011101262555396126), (954, 0.0), (955, 0.021989166429796973), (956, 0.015485723850379086), (957, 0.0), (958, 0.06240867299392366), (959, 0.028598183747496793), (960, 0.0), (961, 0.0), (962, 0.01321831626070123), (963, 0.08093607979181264), (964, 0.016913919497684303), (965, 0.007287993438683429), (966, 0.0), (967, 0.02486759973259156), (968, 0.04550911170536931), (969, 0.05965536040402044), (970, 0.0306304057190169), (971, 0.014467317678648854), (972, 0.015736596850609894), (973, 0.02957428684299908), (974, 0.014645469648839993), (975, 0.008341873263310436), (976, 0.005789938086702832), (977, 0.009952578882221981), (978, 0.04051553636656369), (979, 0.014432562751750002), (980, 0.03499124755908151), (981, 0.035531017419820225), (982, 0.022129547246681848), (983, 0.00693187985671453), (984, 0.014374169382007225), (985, 0.006133163108993261), (986, 0.0), (987, 0.008760570772492102), (988, 0.013691169261071875), (989, 0.004924861442996708), (990, 0.013755877372139328), (991, 0.0), (992, 0.03175309929532447), (993, 0.025012133285939556), (994, 0.051830907119553474), (995, 0.009864622919803969), (996, 0.007576498622893472), (997, 0.0), (998, 0.031294961134766645), (999, 0.028046435773860068), (1000, 0.023264870323972377), (1001, 0.05239940922199487), (1002, 0.1005262424012352), (1003, 0.011136545861787504), (1004, 0.0), (1005, 0.023749380413372243), (1006, 0.04685486296251218), (1007, 0.0), (1008, 0.00948031654424961), (1009, 0.04799624299749352), (1010, 0.008712524730554717), (1011, 0.0), (1012, 0.005761450271103946), (1013, 0.01658093726199825), (1014, 0.0), (1015, 0.028522202797192253), (1016, 0.03947107235591405), (1017, 0.13713281929528848), (1018, 0.03810064751949809), (1019, 0.0), (1020, 0.0156319885403262), (1021, 0.00790066683002669), (1022, 0.020314123936655725), (1023, 0.0), (1024, 0.04273190119842081), (1025, 0.024326126301632493), (1026, 0.03202773810680668), (1027, 0.038369582959136145), (1028, 0.0), (1029, 0.03382335917897186), (1030, 0.024246886096932208), (1031, 0.03247038570649348), (1032, 0.0), (1033, 0.015346049259993976), (1034, 0.05465360864260905), (1035, 0.11197582745207196), (1036, 0.016915800576812103), (1037, 0.0), (1038, 0.03304611511529365), (1039, 0.0), (1040, 0.03259510124285758), (1041, 0.011585739784242967), (1042, 0.010938409138879546), (1043, 0.061489035744914315), (1044, 0.004832356944503329), (1045, 0.0091868649473202), (1046, 0.02619576886066415), (1047, 0.005741385211568459), (1048, 0.08353639093976095), (1049, 0.0316487507997098), (1050, 0.038586172596934386), (1051, 0.007937847328129351), (1052, 0.03349553822594242), (1053, 0.020963794690074006), (1054, 0.0), (1055, 0.01845608703056556), (1056, 0.004797228573047399), (1057, 0.008637735007822455), (1058, 0.03442714619802041), (1059, 0.018999183607856462), (1060, 0.0), (1061, 0.008960694446576207), (1062, 0.0), (1063, 0.04028775499564254), (1064, 0.018457313857787202), (1065, 0.0), (1066, 0.0), (1067, 0.0), (1068, 0.0), (1069, 0.0), (1070, 0.014711569917009438), (1071, 0.0), (1072, 0.0), (1073, 0.022495004724559745), (1074, 0.024831680205808965), (1075, 0.023862232682074432), (1076, 0.09404019992937392), (1077, 0.004292800055937971), (1078, 0.028131182878539565), (1079, 0.004842956999368667), (1080, 0.009917722985102418), (1081, 0.029366575006229682), (1082, 0.03745481410750246), (1083, 0.005611233786916413), (1084, 0.012794674636422042), (1085, 0.10023066759543668), (1086, 0.03512466679352938), (1087, 0.07653280604972879), (1088, 0.0), (1089, 0.030578202116485192), (1090, 0.0), (1091, 0.025051791391380876), (1092, 0.03674322166332937), (1093, 0.005116142421928959), (1094, 0.02046026827116788), (1095, 0.02157535030315407), (1096, 0.012217180267611538), (1097, 0.05181213266828316), (1098, 0.009026025569565293), (1099, 0.00798657052156911), (1100, 0.012318282989797823), (1101, 0.004986733697985245), (1102, 0.016543564002150603), (1103, 0.020550784118254034), (1104, 0.004905997309755556), (1105, 0.007507520950666185), (1106, 0.0049229631964249594), (1107, 0.0), (1108, 0.02467378377900406), (1109, 0.027724036021638452), (1110, 0.047108392496775925), (1111, 0.014657067953291993), (1112, 0.02917610781736512), (1113, 0.044857002035258026), (1114, 0.014958503157539604), (1115, 0.010045155534122307), (1116, 0.0), (1117, 0.013209757980126156), (1118, 0.0228065418199093), (1119, 0.01794367291124869), (1120, 0.05950894940289865), (1121, 0.008294242471426677), (1122, 0.022028315816708756), (1123, 0.0), (1124, 0.03894848056343085), (1125, 0.04892884717732307), (1126, 0.0), (1127, 0.027921419084988117), (1128, 0.0), (1129, 0.010999863723701141), (1130, 0.0), (1131, 0.02909138439562463), (1132, 0.023580888972459305), (1133, 0.014090954994041283), (1134, 0.01848419862286736), (1135, 0.007778314115336795), (1136, 0.004640563303927954), (1137, 0.012393198676248786), (1138, 0.012012382378604771), (1139, 0.01604538145332697), (1140, 0.011144195561107668), (1141, 0.08975341199629366), (1142, 0.0), (1143, 0.015935447827777446), (1144, 0.05196123866300829), (1145, 0.0), (1146, 0.02818822002210506), (1147, 0.02319147974311899), (1148, 0.060107651691859276), (1149, 0.008531038938045889), (1150, 0.00906537582338922), (1151, 0.014558045430265768), (1152, 0.015836772148492755), (1153, 0.025722455536786065), (1154, 0.00941480164769552), (1155, 0.004811608235094448), (1156, 0.017898578279374487), (1157, 0.0), (1158, 0.005332939602783096), (1159, 0.046664364128564034), (1160, 0.016500915655068837), (1161, 0.008632937910957851), (1162, 0.030011323973925298), (1163, 0.03787797511689461), (1164, 0.0), (1165, 0.04349260082502057), (1166, 0.011416736755473642), (1167, 0.0), (1168, 0.0), (1169, 0.00942415302057655), (1170, 0.01782500402095107), (1171, 0.00901202498663857), (1172, 0.03280156641899437), (1173, 0.0), (1174, 0.05648892011570572), (1175, 0.03057835214997065), (1176, 0.022893457942976626), (1177, 0.03353562111259639), (1178, 0.013818194169235676), (1179, 0.00967552683704063), (1180, 0.026987324384795015), (1181, 0.02957607607291458), (1182, 0.015935098832651835), (1183, 0.0524720023188688), (1184, 0.03134798916087378), (1185, 0.008248533984264715), (1186, 0.008360515643054322), (1187, 0.026063767446498104), (1188, 0.03685944318062393), (1189, 0.0), (1190, 0.009831337830050541), (1191, 0.03800587212380693), (1192, 0.04076275116572928), (1193, 0.00469657559411346), (1194, 0.02217266864060887), (1195, 0.018532073439352398), (1196, 0.03230224759674958), (1197, 0.008569489949539294), (1198, 0.0), (1199, 0.004644005471996144), (1200, 0.005104806007917165), (1201, 0.017434336362412362), (1202, 0.027910207620286998), (1203, 0.018025072768320487), (1204, 0.01801484786963302), (1205, 0.0), (1206, 0.011233965487079353), (1207, 0.028933812704153454), (1208, 0.0), (1209, 0.013767757831726601), (1210, 0.0), (1211, 0.0), (1212, 0.00713363590404558), (1213, 0.03800221476699369), (1214, 0.03473740532650402), (1215, 0.0351963359206349), (1216, 0.03786025128668011), (1217, 0.034551565291794296), (1218, 0.0), (1219, 0.0), (1220, 0.032720108435323685), (1221, 0.008123758336034967), (1222, 0.009897545148202536), (1223, 0.059922058269882), (1224, 0.0), (1225, 0.017557568856793764), (1226, 0.007504796955659941), (1227, 0.030595747837277358), (1228, 0.020779494190111943), (1229, 0.0), (1230, 0.026248604886498727), (1231, 0.0), (1232, 0.03003882024706265), (1233, 0.040660364527608205), (1234, 0.031301921414856576), (1235, 0.0), (1236, 0.06921697670526412), (1237, 0.023748477729621464), (1238, 0.019449288579735782), (1239, 0.035267310547759674), (1240, 0.008663063811007912), (1241, 0.08609227902838198), (1242, 0.0), (1243, 0.05070035016062484), (1244, 0.0232919648866097), (1245, 0.0336810882884475), (1246, 0.010619550176089784), (1247, 0.053581002184245344), (1248, 0.0), (1249, 0.005656863725235057), (1250, 0.02727072394112056), (1251, 0.0), (1252, 0.0), (1253, 0.017244356378756), (1254, 0.02263332376324078), (1255, 0.00768932429650356), (1256, 0.028578933190333305), (1257, 0.02374113313385228), (1258, 0.0), (1259, 0.046382514953439494), (1260, 0.012933071831449924), (1261, 0.0), (1262, 0.0), (1263, 0.008241792099114622), (1264, 0.015429401847627516), (1265, 0.04320191547401772), (1266, 0.0155807609460571), (1267, 0.0074201638173298735), (1268, 0.0), (1269, 0.015361647906030017), (1270, 0.021272374341004114), (1271, 0.0214807964615722), (1272, 0.02478843666942719), (1273, 0.005807999381282512), (1274, 0.00880932209141728), (1275, 0.01709762463517587), (1276, 0.00866954282408403), (1277, 0.013849161288857005), (1278, 0.0488360430519503), (1279, 0.022620557935525098), (1280, 0.036667276657292525), (1281, 0.011605195127106772), (1282, 0.021236119450291573), (1283, 0.01941897961500091), (1284, 0.005584268388385988), (1285, 0.005629935367298658), (1286, 0.033542483316068294), (1287, 0.010479910941085363), (1288, 0.007155601262555008), (1289, 0.037943844240752506), (1290, 0.004834469256724305), (1291, 0.012822320920255028), (1292, 0.054451481344167885), (1293, 0.06301875726076642), (1294, 0.01390253701229965), (1295, 0.0), (1296, 0.10584478077207024), (1297, 0.0), (1298, 0.011650842289952557), (1299, 0.017645987253240195), (1300, 0.017510638080635035), (1301, 0.022244056799122433), (1302, 0.00554587074247266), (1303, 0.055858611364546853), (1304, 0.016727586039875213), (1305, 0.022180881228978204), (1306, 0.01266841721302412), (1307, 0.0), (1308, 0.01844704867117139), (1309, 0.008208236632796576), (1310, 0.004781821804758146), (1311, 0.0386617999638976), (1312, 0.02773357523478933), (1313, 0.013019787580348531), (1314, 0.019318341788640593), (1315, 0.008197753361605725), (1316, 0.04929772852512585), (1317, 0.005648048512342407), (1318, 0.008526103682848115), (1319, 0.005340388672171498), (1320, 0.02394145804020361), (1321, 0.005640488690272381), (1322, 0.01986408056030939), (1323, 0.0), (1324, 0.02534185104536406), (1325, 0.0), (1326, 0.0), (1327, 0.016706318737225168), (1328, 0.015597890925629809), (1329, 0.0), (1330, 0.0), (1331, 0.029667946796972704), (1332, 0.0047864257428798076), (1333, 0.0), (1334, 0.03272086606170817), (1335, 0.009717942060538302), (1336, 0.008713114481184604), (1337, 0.030063073922606327), (1338, 0.015963643742628167), (1339, 0.027037333574238043), (1340, 0.007924608955632455), (1341, 0.01008558658524704), (1342, 0.03895054296253555), (1343, 0.06791784582514573), (1344, 0.0), (1345, 0.0), (1346, 0.017622689430631958), (1347, 0.005120639902567996), (1348, 0.03954765666933953), (1349, 0.00841102396954277), (1350, 0.009136598835697613), (1351, 0.01821162297868964), (1352, 0.008601196207514825), (1353, 0.0), (1354, 0.022712737635219946), (1355, 0.0), (1356, 0.0), (1357, 0.006434786309166769), (1358, 0.04131304321764742), (1359, 1.0), (1360, 0.0), (1361, 0.019833133965028015), (1362, 0.030029774381100886), (1363, 0.05717926093621477), (1364, 0.033496349111216926), (1365, 0.0), (1366, 0.019993313149369925), (1367, 0.008504996098950859), (1368, 0.04197806701094106), (1369, 0.0433392780847158), (1370, 0.020851335949490173), (1371, 0.0), (1372, 0.017666804315864287), (1373, 0.03573361307149581), (1374, 0.07276512150372844), (1375, 0.027669690732334547), (1376, 0.0), (1377, 0.025618729675440367), (1378, 0.0), (1379, 0.008290334565682565), (1380, 0.02296003928356085), (1381, 0.009900008053882567), (1382, 0.04775173178987265), (1383, 0.0), (1384, 0.02095407735033296), (1385, 0.0), (1386, 0.0), (1387, 0.0), (1388, 0.008586463674760106), (1389, 0.015002704869040543), (1390, 0.036918948858573365), (1391, 0.0), (1392, 0.03660194722613762), (1393, 0.0), (1394, 0.029809858233718928), (1395, 0.005481974450441864), (1396, 0.0), (1397, 0.03552015136100155), (1398, 0.005907813640041783), (1399, 0.005666944437724892), (1400, 0.037800196373694084), (1401, 0.0), (1402, 0.010982823601901455), (1403, 0.03761948767754858), (1404, 0.017851738612026154), (1405, 0.0), (1406, 0.007703678119017641), (1407, 0.01714749964253573), (1408, 0.025636739337390285), (1409, 0.03777411306063175), (1410, 0.008554984992405472), (1411, 0.029347141747694226), (1412, 0.02877966213437763), (1413, 0.018031095825940046), (1414, 0.0), (1415, 0.031008445272316054), (1416, 0.0), (1417, 0.04540145189851705), (1418, 0.03368349867931224), (1419, 0.02288605704597077), (1420, 0.031236194102596055), (1421, 0.07145387858299798), (1422, 0.0195086060323062), (1423, 0.011379127789045778), (1424, 0.0), (1425, 0.020498630997590347), (1426, 0.020206872277860652), (1427, 0.019692892642776887), (1428, 0.020219277065378273), (1429, 0.008297681873716949), (1430, 0.018302012815640506), (1431, 0.03765706687564924), (1432, 0.041097611614166765), (1433, 0.01640852485747147), (1434, 0.06650848491705978), (1435, 0.024419506160223196), (1436, 0.0), (1437, 0.004772410004958564), (1438, 0.01450372255063764), (1439, 0.04293508667172627), (1440, 0.014012766584761716), (1441, 0.02530974940915752), (1442, 0.01874662357668792), (1443, 0.03021844104622337), (1444, 0.0), (1445, 0.013233824822724883), (1446, 0.01073375076241159), (1447, 0.005065863956775308), (1448, 0.013931988276047545), (1449, 0.01051049246276645), (1450, 0.01200294191627159), (1451, 0.037679821179759584), (1452, 0.0), (1453, 0.030922810477248576), (1454, 0.0), (1455, 0.0), (1456, 0.00998239203110319), (1457, 0.012659535700538575), (1458, 0.04744491982945792), (1459, 0.013270934195827033), (1460, 0.0), (1461, 0.036580189662531445), (1462, 0.0064056886095166824), (1463, 0.011555368030724988), (1464, 0.010284505669030523), (1465, 0.005185230062999871), (1466, 0.02832002186163311), (1467, 0.02621788695346807), (1468, 0.02263157217854836), (1469, 0.043763468277525225), (1470, 0.021692216808877108), (1471, 0.0), (1472, 0.018257957400084193), (1473, 0.027523642974833708), (1474, 0.10078843818576028), (1475, 0.0), (1476, 0.0), (1477, 0.10199709558322866), (1478, 0.07074037978729494), (1479, 0.01479317528968298), (1480, 0.00483361622100841), (1481, 0.009800395041701679), (1482, 0.013348013447405924), (1483, 0.0), (1484, 0.01937735522744697), (1485, 0.0), (1486, 0.012986286768971267), (1487, 0.0), (1488, 0.03475967765472333), (1489, 0.0), (1490, 0.028690886940454276), (1491, 0.005139455403447933), (1492, 0.025783926115221602), (1493, 0.0), (1494, 0.010241691794116957), (1495, 0.03255658448768126), (1496, 0.0), (1497, 0.03414101802907812), (1498, 0.01621751835836427), (1499, 0.008864783686100114), (1500, 0.02244486354346686), (1501, 0.008834379100895198), (1502, 0.00889347569647855), (1503, 0.03922376831304132), (1504, 0.03248624217891103), (1505, 0.014117239215771595), (1506, 0.059475397637864434), (1507, 0.021367076059543886), (1508, 0.011824989606273713), (1509, 0.0), (1510, 0.005399886102089039), (1511, 0.0), (1512, 0.14705162654306447), (1513, 0.052881899233813895), (1514, 0.015527553951531547), (1515, 0.043713273905260246), (1516, 0.016814276332762355), (1517, 0.018543716643440747), (1518, 0.013480981994518023), (1519, 0.022800943234727592), (1520, 0.0), (1521, 0.0), (1522, 0.026846566547207185), (1523, 0.02013780616342415), (1524, 0.022652613152636607), (1525, 0.009157339065228243), (1526, 0.0), (1527, 0.02285073465378955), (1528, 0.0060949314442038825), (1529, 0.01922126836497642), (1530, 0.0), (1531, 0.019736663578082948), (1532, 0.0), (1533, 0.021349851527078183), (1534, 0.0), (1535, 0.018070538742894514), (1536, 0.0), (1537, 0.016767059622503695), (1538, 0.020206107470684583), (1539, 0.0), (1540, 0.0), (1541, 0.025113263910305602), (1542, 0.01250947562244805), (1543, 0.021511627040121023), (1544, 0.0), (1545, 0.008106087729578507), (1546, 0.028197686626645405), (1547, 0.01840224832923179), (1548, 0.022374201721812297), (1549, 0.009703900509859342), (1550, 0.00720572358661794), (1551, 0.007491678996788646), (1552, 0.034257172964755264), (1553, 0.007158359547476222), (1554, 0.009013976222033114), (1555, 0.0), (1556, 0.023473703031252284), (1557, 0.0), (1558, 0.038146343919781674), (1559, 0.013785794831521148), (1560, 0.008825888751138112), (1561, 0.05300836086982751), (1562, 0.008376065226063241), (1563, 0.012828588064996519), (1564, 0.024617252096102937), (1565, 0.0174073851325098), (1566, 0.06940034499958737), (1567, 0.0), (1568, 0.005030433989265981), (1569, 0.01465181323774375), (1570, 0.009061741366227418), (1571, 0.017426760905421095), (1572, 0.02114246093317024), (1573, 0.012317650873172718), (1574, 0.03753004775712928), (1575, 0.028143877012497445), (1576, 0.00890960456271945), (1577, 0.037190069284506376), (1578, 0.034549399484208515), (1579, 0.03581020933631408), (1580, 0.0), (1581, 0.007108888278063725), (1582, 0.0), (1583, 0.011632165362190961), (1584, 0.008922551492771418), (1585, 0.015606251271792984), (1586, 0.005513418879816729), (1587, 0.0), (1588, 0.012520420418828147), (1589, 0.031005378709221265), (1590, 0.0), (1591, 0.008993917973956283), (1592, 0.030152431357277028), (1593, 0.0), (1594, 0.06036080839866811), (1595, 0.025414987799459818), (1596, 0.021529974960177823), (1597, 0.01891010136816346), (1598, 0.008211232625811155), (1599, 0.011080660620207676), (1600, 0.0493363968954831), (1601, 0.0), (1602, 0.0), (1603, 0.011132776533034102), (1604, 0.0), (1605, 0.04300799644485527), (1606, 0.025204389615138215), (1607, 0.014061167248561286), (1608, 0.020125990512872644), (1609, 0.007846470078884582), (1610, 0.0053693262198462165), (1611, 0.04112474398198276), (1612, 0.02294331387449539), (1613, 0.0), (1614, 0.0), (1615, 0.012977705655256286), (1616, 0.004847094862544482), (1617, 0.005396485249675851), (1618, 0.021226571514513147), (1619, 0.023674792256187502), (1620, 0.0), (1621, 0.009394793734920448), (1622, 0.0072445371562285575), (1623, 0.009712381823606214), (1624, 0.03752419572986529), (1625, 0.01226628536882746), (1626, 0.02039743167988409), (1627, 0.008299623985191733), (1628, 0.014772866958500436), (1629, 0.06407184052001347), (1630, 0.024152976998750332), (1631, 0.018306258356871125), (1632, 0.024155329711184267), (1633, 0.014610411586649177), (1634, 0.0), (1635, 0.0297484676658408), (1636, 0.005776708803441586), (1637, 0.023979367336911216), (1638, 0.0), (1639, 0.006888984818063591), (1640, 0.0), (1641, 0.00820843685938151), (1642, 0.0), (1643, 0.03552945755886326), (1644, 0.028405140321107702), (1645, 0.005031870998304777), (1646, 0.0), (1647, 0.014538793312907415), (1648, 0.00944606199713398), (1649, 0.0), (1650, 0.00955208591518146), (1651, 0.032880834361713684), (1652, 0.039936857566708804), (1653, 0.04545837835897054), (1654, 0.0), (1655, 0.04594587261868763), (1656, 0.008260393599957882), (1657, 0.01288095757721532), (1658, 0.012850653409546203), (1659, 0.017682804704692905), (1660, 0.015244375297957365), (1661, 0.03172097115172967), (1662, 0.0), (1663, 0.02353232186537982), (1664, 0.01938077852599026), (1665, 0.021434439428366002), (1666, 0.006121681872805396), (1667, 0.006913038735809923), (1668, 0.027971951376124224), (1669, 0.023147894763598367), (1670, 0.028792392763867376), (1671, 0.013203531345148078), (1672, 0.012543682946555782), (1673, 0.0), (1674, 0.04859943492495315), (1675, 0.025041519709610438), (1676, 0.007216555284997412), (1677, 0.0), (1678, 0.0210044775606081), (1679, 0.024244547258011097), (1680, 0.033016471643636), (1681, 0.007679536927649782), (1682, 0.03032943155356521), (1683, 0.0), (1684, 0.0), (1685, 0.05279678377370656), (1686, 0.01422733295424516), (1687, 0.02592776357001637), (1688, 0.007844204355925711), (1689, 0.025776402695687504), (1690, 0.0), (1691, 0.0), (1692, 0.03823028320857572), (1693, 0.009226751800888272), (1694, 0.011067411156849118), (1695, 0.011665180329931612), (1696, 0.008529304605176043), (1697, 0.004806718483768213), (1698, 0.0), (1699, 0.041774080788419765), (1700, 0.0), (1701, 0.01845894428112739), (1702, 0.005190493622697644), (1703, 0.0), (1704, 0.0), (1705, 0.009382041231411158), (1706, 0.01776956883365212), (1707, 0.022391752195013964), (1708, 0.012537489703183167), (1709, 0.0), (1710, 0.0), (1711, 0.009076622623200492), (1712, 0.02004263383622975), (1713, 0.005278830469863647), (1714, 0.023259362870364012), (1715, 0.01051179357098346), (1716, 0.0), (1717, 0.018285539551294337), (1718, 0.009201847044412256), (1719, 0.01377366403739546), (1720, 0.07785389662462186), (1721, 0.021242657560316115), (1722, 0.01714348746934269), (1723, 0.0), (1724, 0.0), (1725, 0.0), (1726, 0.030809070281151613), (1727, 0.014639101750610527), (1728, 0.015600503534506038), (1729, 0.0), (1730, 0.0), (1731, 0.0256420372576307), (1732, 0.009586408648709568), (1733, 0.0058969097159748), (1734, 0.026818297763628863), (1735, 0.011636958444510006), (1736, 0.00793572100386117), (1737, 0.021754207369195352), (1738, 0.0), (1739, 0.008650953199043365), (1740, 0.08909361212904546), (1741, 0.005446897459944767), (1742, 0.012841432896343574), (1743, 0.004874505123190847), (1744, 0.008940137353045371), (1745, 0.020957586466537226), (1746, 0.015557358009521901), (1747, 0.02712577089309213), (1748, 0.016378813126348583), (1749, 0.009012775603607632), (1750, 0.012683369244718658), (1751, 0.00890560420677819), (1752, 0.006062587214095427), (1753, 0.012468725762600427), (1754, 0.0), (1755, 0.0), (1756, 0.0), (1757, 0.025418147344083812), (1758, 0.04003917737948753), (1759, 0.00967239657720542), (1760, 0.0), (1761, 0.016892274395189356), (1762, 0.009569150570978196), (1763, 0.008630437830550626), (1764, 0.019117169709239306), (1765, 0.02647024085858546), (1766, 0.0), (1767, 0.009254445095822541), (1768, 0.023990905648439753), (1769, 0.006365628221953609), (1770, 0.022181256487692733), (1771, 0.07939424641304792), (1772, 0.0), (1773, 0.00605867155419321), (1774, 0.0), (1775, 0.03350489539535297), (1776, 0.0), (1777, 0.005865537480103254), (1778, 0.007790188768082972), (1779, 0.029459817144237455), (1780, 0.021495432172595943), (1781, 0.016462017806447998), (1782, 0.056308948618240914), (1783, 0.015125416576253315), (1784, 0.0), (1785, 0.03713984750749882), (1786, 0.013756186572400164), (1787, 0.03232031064166291), (1788, 0.022565812244005345), (1789, 0.01918797352743376), (1790, 0.048556569482376466), (1791, 0.017205808939932586), (1792, 0.03958339043802277), (1793, 0.03488282343738186), (1794, 0.03735548424081348), (1795, 0.018098314488782578), (1796, 0.025755866711754498), (1797, 0.0), (1798, 0.008421812224210398), (1799, 0.04028628091308527), (1800, 0.02272731075557931), (1801, 0.0), (1802, 0.039568680994339814), (1803, 0.09486132363970295), (1804, 0.035645991971665875), (1805, 0.008628890947105694), (1806, 0.01989830508794953), (1807, 0.01704209471712633), (1808, 0.0), (1809, 0.0), (1810, 0.0), (1811, 0.007382294067259586), (1812, 0.01927836952020002), (1813, 0.0702107976791396), (1814, 0.013890288225782392), (1815, 0.005178792908771225), (1816, 0.03212834996569905), (1817, 0.011456444443825528), (1818, 0.019362801191886492), (1819, 0.0203378252251874), (1820, 0.01675024411032386), (1821, 0.009834791570927143), (1822, 0.03617576829397694), (1823, 0.0), (1824, 0.037898101279818214), (1825, 0.005092744533513066), (1826, 0.025205395499702177), (1827, 0.06445903936995262), (1828, 0.016407214488317088), (1829, 0.007396501854834193), (1830, 0.04049210660090152), (1831, 0.0), (1832, 0.00843057883447386), (1833, 0.0), (1834, 0.019768637259040645), (1835, 0.0), (1836, 0.005291279182849064), (1837, 0.04217668058421617), (1838, 0.03211193330356925), (1839, 0.018061614132809926), (1840, 0.0), (1841, 0.0), (1842, 0.021618183770179728), (1843, 0.01737128670155446), (1844, 0.0056979250124414745), (1845, 0.009650508551112647), (1846, 0.05858161919230411), (1847, 0.042712112247782), (1848, 0.020732962869425876), (1849, 0.019902901381266977), (1850, 0.02352721651348988), (1851, 0.05137565980020799), (1852, 0.01185572405382368), (1853, 0.022310864730738632), (1854, 0.005054757724731262), (1855, 0.0), (1856, 0.02499576497226054), (1857, 0.029949561946954716), (1858, 0.06975691386608407), (1859, 0.008217356184935933), (1860, 0.014384186580270561), (1861, 0.01957254411962333), (1862, 0.0), (1863, 0.04203190343734929), (1864, 0.0), (1865, 0.009947359302382813), (1866, 0.0), (1867, 0.0), (1868, 0.013386345355129746), (1869, 0.022547764366525926), (1870, 0.02467940682188108), (1871, 0.0), (1872, 0.005561831391579429), (1873, 0.041346391305367367), (1874, 0.007904344677483346), (1875, 0.0), (1876, 0.0), (1877, 0.011109943904804038), (1878, 0.02514780994036781), (1879, 0.02935651787512665), (1880, 0.005514445043253252), (1881, 0.04382449735381552), (1882, 0.008850653355231601), (1883, 0.017218014496941537), (1884, 0.04898143796896101), (1885, 0.0), (1886, 0.05135926016803145), (1887, 0.0), (1888, 0.0), (1889, 0.02524835968971871), (1890, 0.04171393550362236), (1891, 0.0), (1892, 0.011371550377381504), (1893, 0.031729419913026816), (1894, 0.02345182848817197), (1895, 0.0), (1896, 0.017648617559057802), (1897, 0.03598560153421042), (1898, 0.0), (1899, 0.022681210769162137), (1900, 0.01739583785738129), (1901, 0.0), (1902, 0.06175659279873492), (1903, 0.0), (1904, 0.008248325920015233), (1905, 0.008543211535626224), (1906, 0.0), (1907, 0.021249325849423597), (1908, 0.004957465342509351), (1909, 0.007995232460302829), (1910, 0.024075304155847868), (1911, 0.0), (1912, 0.019251555136440567), (1913, 0.01968621374115141), (1914, 0.036139448381009055), (1915, 0.01609731984171738), (1916, 0.015762545444655524), (1917, 0.0), (1918, 0.04544963560382888), (1919, 0.0), (1920, 0.005884147455237689), (1921, 0.025281830978181936), (1922, 0.0), (1923, 0.007531840305792245), (1924, 0.010416920962543872), (1925, 0.031469921240613145), (1926, 0.008734337441492154), (1927, 0.03150432010600776), (1928, 0.0), (1929, 0.05267613017000264), (1930, 0.011866643277531161), (1931, 0.0195280545251541), (1932, 0.01750483453735191), (1933, 0.006029926885612366), (1934, 0.0), (1935, 0.037686935159440965), (1936, 0.021953828960660362), (1937, 0.016643692779351245), (1938, 0.0), (1939, 0.033843590493137704), (1940, 0.0), (1941, 0.0), (1942, 0.009289478917794802), (1943, 0.029039093987303304), (1944, 0.0303809384023903), (1945, 0.013419865151133456), (1946, 0.022231660339560786), (1947, 0.019338506393074363), (1948, 0.007135786975592431), (1949, 0.0), (1950, 0.0), (1951, 0.0), (1952, 0.02560389989397752), (1953, 0.00571771348663242), (1954, 0.027776657744013528), (1955, 0.01121423121977963), (1956, 0.0055754579569536455), (1957, 0.017206634661685045), (1958, 0.009543457590741137), (1959, 0.0369405559690115), (1960, 0.012122863594735975), (1961, 0.0), (1962, 0.007365899595637162), (1963, 0.058085263627459416), (1964, 0.06641267452470392), (1965, 0.0), (1966, 0.01541650584795623), (1967, 0.026895089478534227), (1968, 0.0), (1969, 0.024817911432808475), (1970, 0.021998124176773493), (1971, 0.006677196039465773), (1972, 0.0), (1973, 0.013340100815097008), (1974, 0.016841460497583626), (1975, 0.009956953571886654), (1976, 0.05026658297390171), (1977, 0.04919724187128134), (1978, 0.01622578180805227), (1979, 0.0), (1980, 0.008697317750059086), (1981, 0.026229566109401775), (1982, 0.025472347325829453), (1983, 0.011279617573603204), (1984, 0.012732449525331598), (1985, 0.0), (1986, 0.014934726112894304), (1987, 0.01695800236961683), (1988, 0.0), (1989, 0.04159987031212476), (1990, 0.014558528630020558), (1991, 0.032358846958819215), (1992, 0.03413850644041443), (1993, 0.008051298461780137), (1994, 0.0), (1995, 0.03942957756973021), (1996, 0.02294561494723391), (1997, 0.0), (1998, 0.0), (1999, 0.040834017589824856), (2000, 0.0), (2001, 0.0345449798860077), (2002, 0.025039274493230384), (2003, 0.018252711034050545), (2004, 0.040089421408815794), (2005, 0.0), (2006, 0.0), (2007, 0.026239714237770433), (2008, 0.015982728574063187), (2009, 0.0), (2010, 0.0), (2011, 0.0), (2012, 0.0), (2013, 0.004356932703326003), (2014, 0.02534920770921765), (2015, 0.03696916006610588), (2016, 0.011212873969711067), (2017, 0.009922309775577952), (2018, 0.020982624753504646), (2019, 0.026209758231026215), (2020, 0.02865455052450085), (2021, 0.01644214799152987), (2022, 0.021335376453851248), (2023, 0.00469993409590895), (2024, 0.008504331010860676), (2025, 0.03892760176597966), (2026, 0.049807132061791326), (2027, 0.009531466354382324), (2028, 0.0), (2029, 0.05435481732217601), (2030, 0.0), (2031, 0.00834964616904155), (2032, 0.0), (2033, 0.014408137063061224), (2034, 0.04498344573057396), (2035, 0.044541051542942425), (2036, 0.04151107022062159), (2037, 0.009829078571089472), (2038, 0.007761358710588317), (2039, 0.0), (2040, 0.008526911385754945), (2041, 0.0), (2042, 0.030878949745456484), (2043, 0.013661860798531617), (2044, 0.0), (2045, 0.0), (2046, 0.02209431294734978), (2047, 0.0800598496791155), (2048, 0.02733570859398382), (2049, 0.01749051128727583), (2050, 0.012307645119260018), (2051, 0.0), (2052, 0.033028495298165664), (2053, 0.0), (2054, 0.030308363102700162), (2055, 0.054364316278963806), (2056, 0.009997278744652597), (2057, 0.02370800340092297), (2058, 0.0), (2059, 0.0), (2060, 0.018013744482188333), (2061, 0.034742806880131566), (2062, 0.03749317710981427), (2063, 0.02200818844793445), (2064, 0.0), (2065, 0.0), (2066, 0.05609985436718217), (2067, 0.0), (2068, 0.021678410158067467), (2069, 0.03242684366658056), (2070, 0.06136751707477053), (2071, 0.009879386117380753), (2072, 0.007643502880728984), (2073, 0.0), (2074, 0.012125007913738635), (2075, 0.005219967962226397), (2076, 0.0), (2077, 0.0), (2078, 0.025880706040512205), (2079, 0.0), (2080, 0.008865215351355406), (2081, 0.009898659397085762), (2082, 0.014648987924051421), (2083, 0.016832288661381645), (2084, 0.005235231116409663), (2085, 0.028594412014338495), (2086, 0.024980719858491693), (2087, 0.0), (2088, 0.010247263576363836), (2089, 0.014334077242662028), (2090, 0.022739456083573063), (2091, 0.022517506395989456), (2092, 0.02375932799022158), (2093, 0.00559139441419689), (2094, 0.025835156342069808), (2095, 0.0), (2096, 0.015349580869854931), (2097, 0.0), (2098, 0.018611172285554166), (2099, 0.040679354308898893), (2100, 0.03460214098366788), (2101, 0.0), (2102, 0.018206376272252897), (2103, 0.01803548528171557), (2104, 0.036963279119302465), (2105, 0.025598981817030922), (2106, 0.0), (2107, 0.0), (2108, 0.08391604344392496), (2109, 0.0), (2110, 0.007906379751319824), (2111, 0.021235744891077657), (2112, 0.0), (2113, 0.010513386242058848), (2114, 0.059374753631691264), (2115, 0.00827600705056195), (2116, 0.008640829458816168), (2117, 0.009081037866644989), (2118, 0.0), (2119, 0.0), (2120, 0.00917944002843519), (2121, 0.0), (2122, 0.005962649978188197), (2123, 0.0704950601798006), (2124, 0.007368466660411455), (2125, 0.0), (2126, 0.03790218900643147), (2127, 0.010137987118395897), (2128, 0.0), (2129, 0.005187106186796951), (2130, 0.0074010886063391994), (2131, 0.0071396846732225), (2132, 0.0), (2133, 0.008253340076687482), (2134, 0.0), (2135, 0.0), (2136, 0.021530087422208195), (2137, 0.0), (2138, 0.01387074540133909), (2139, 0.0), (2140, 0.013150997355821741), (2141, 0.010677538797630136), (2142, 0.02177599767565398), (2143, 0.0), (2144, 0.0), (2145, 0.03923975791495391), (2146, 0.0), (2147, 0.020485634115827683), (2148, 0.024618857390416513), (2149, 0.008525481441929173), (2150, 0.009641698502016455), (2151, 0.008490223134073112), (2152, 0.008892484123575494), (2153, 0.009627329387371472), (2154, 0.014261090045043556), (2155, 0.01333453530734896), (2156, 0.013687613871801157), (2157, 0.048833269696528986), (2158, 0.009103888293947685), (2159, 0.04100775162146947), (2160, 0.032491344751043524), (2161, 0.013470707971755796), (2162, 0.0), (2163, 0.02450274703378237), (2164, 0.0070879422218198115), (2165, 0.009736520709247954), (2166, 0.010717541396057241), (2167, 0.017558988362293984), (2168, 0.01842226613972403), (2169, 0.02457124722412299), (2170, 0.02263953778195152), (2171, 0.010455060022470129), (2172, 0.0), (2173, 0.009001634129550013), (2174, 0.0), (2175, 0.018421591749132715), (2176, 0.020377266779787045), (2177, 0.019030595019174895), (2178, 0.023917814759109417), (2179, 0.0321223564090088), (2180, 0.01605001179465444), (2181, 0.011497940963532816), (2182, 0.01959077107067354), (2183, 0.0), (2184, 0.018287953127304447), (2185, 0.007963298199192346), (2186, 0.00808177414803542), (2187, 0.03130793155441723), (2188, 0.006403016133563692), (2189, 0.009997577637209173), (2190, 0.0), (2191, 0.04727771543208085), (2192, 0.020966142140828387), (2193, 0.03806330499832303), (2194, 0.004846742555154651), (2195, 0.01985260475034096), (2196, 0.012586639576815585), (2197, 0.02274164651064088), (2198, 0.005619890180753037), (2199, 0.019457325176647736), (2200, 0.011845484541211246), (2201, 0.006296412789100745), (2202, 0.028471410994612582), (2203, 0.021522363146015588), (2204, 0.030149290926855372), (2205, 0.04727307527323961), (2206, 0.009825180774650782), (2207, 0.005979560773692719), (2208, 0.0), (2209, 0.012005213997481702), (2210, 0.028023565952007147), (2211, 0.0), (2212, 0.024949799481613175), (2213, 0.0), (2214, 0.019156430265523303), (2215, 0.021769345983336564), (2216, 0.026278164821076228), (2217, 0.0), (2218, 0.01411445087267167), (2219, 0.0), (2220, 0.00857074760528601), (2221, 0.053576821197112795), (2222, 0.026385699481707194), (2223, 0.05960804990085404), (2224, 0.0), (2225, 0.02388100902761386), (2226, 0.0), (2227, 0.009957760386353036), (2228, 0.019745654355638576), (2229, 0.011804487037548588), (2230, 0.01642259007961301), (2231, 0.00973878582136455), (2232, 0.0), (2233, 0.028057445099759316), (2234, 0.036147146365960586), (2235, 0.0), (2236, 0.0), (2237, 0.02304919835869488), (2238, 0.008078951363265826), (2239, 0.010263889731607296), (2240, 0.04174815321841285), (2241, 0.0), (2242, 0.030389841089209543), (2243, 0.0), (2244, 0.01465585131176518), (2245, 0.009065728286658787), (2246, 0.0), (2247, 0.029882527026796557), (2248, 0.0), (2249, 0.01766826105069923), (2250, 0.013634975005370292), (2251, 0.019566043091467852), (2252, 0.0), (2253, 0.013431428442066351), (2254, 0.0), (2255, 0.04074315087193084), (2256, 0.0), (2257, 0.0), (2258, 0.01728467882665452), (2259, 0.0), (2260, 0.0281982254252929), (2261, 0.030713594386319557), (2262, 0.009539549240166003), (2263, 0.017908675281275585), (2264, 0.005321789201754368), (2265, 0.07480103949044059), (2266, 0.012089392779855757), (2267, 0.0), (2268, 0.01757890626814134), (2269, 0.008177598703837798), (2270, 0.0), (2271, 0.0), (2272, 0.0), (2273, 0.0), (2274, 0.0), (2275, 0.026113741510890583), (2276, 0.015494388556985076), (2277, 0.012769727612697679), (2278, 0.0), (2279, 0.0), (2280, 0.028090418960616016), (2281, 0.018357336384289446), (2282, 0.007041357859755794), (2283, 0.007223035842208168), (2284, 0.0600960551976822), (2285, 0.05072283634197921), (2286, 0.0), (2287, 0.0), (2288, 0.014575587616796275), (2289, 0.037911143150644935), (2290, 0.009788448576869925), (2291, 0.03559235476057287), (2292, 0.0), (2293, 0.005314507202980626), (2294, 0.015996749378376703), (2295, 0.013286483189991219), (2296, 0.022423453660892594), (2297, 0.0), (2298, 0.0), (2299, 0.0), (2300, 0.01511848444570849), (2301, 0.04808522757820377), (2302, 0.020261498138924076), (2303, 0.0317129075161984), (2304, 0.02190540227265423), (2305, 0.021488156800989984), (2306, 0.00798002295305227), (2307, 0.02654904429489527), (2308, 0.017505560722870284), (2309, 0.00593627613231451), (2310, 0.03703116569894048), (2311, 0.028213272868602368), (2312, 0.0), (2313, 0.1183433298876972), (2314, 0.017902590655836777), (2315, 0.0), (2316, 0.0), (2317, 0.020508541342956554), (2318, 0.008028620507667925), (2319, 0.0), (2320, 0.04373758512234605), (2321, 0.051487173058953256), (2322, 0.03169646736621697), (2323, 0.016473369228260214), (2324, 0.02474569428017212), (2325, 0.0), (2326, 0.010122271011278966), (2327, 0.004888511404914586), (2328, 0.009389574532831678), (2329, 0.007966809564085053), (2330, 0.02091546785901884), (2331, 0.049704567350787), (2332, 0.0), (2333, 0.03021084453069152), (2334, 0.05526612036216298), (2335, 0.007889334231240852), (2336, 0.022195972963226295), (2337, 0.0), (2338, 0.033999037925691006), (2339, 0.016587091426665434), (2340, 0.06378589921415115), (2341, 0.023237318072513117), (2342, 0.03579302583003757), (2343, 0.034049044375517624), (2344, 0.0), (2345, 0.009897449029082777), (2346, 0.019349639936663277), (2347, 0.0), (2348, 0.00795937239346222), (2349, 0.03610645406033576), (2350, 0.013811241044855878), (2351, 0.031677310143627804), (2352, 0.005914269667336131), (2353, 0.0), (2354, 0.018327080030753548), (2355, 0.019737413682336506), (2356, 0.02158623381877749), (2357, 0.04218005116739609), (2358, 0.008637000370617256), (2359, 0.0), (2360, 0.027883301834340644), (2361, 0.008789661272089456), (2362, 0.051761187642313536), (2363, 0.016744264036109083), (2364, 0.028206019882467504), (2365, 0.08534384429585108), (2366, 0.04337057394012591), (2367, 0.023020196668801392), (2368, 0.06064463603285601), (2369, 0.0), (2370, 0.0), (2371, 0.020858622646527342), (2372, 0.02239707073903316), (2373, 0.0), (2374, 0.0), (2375, 0.020430749249052808), (2376, 0.016999643818801896), (2377, 0.017670475506859136), (2378, 0.02455015349853022), (2379, 0.0), (2380, 0.013292623127802014), (2381, 0.11752380293327758), (2382, 0.0), (2383, 0.0766994239491908), (2384, 0.020204105912477476), (2385, 0.0), (2386, 0.005133981393820355), (2387, 0.03902280806428205), (2388, 0.012392778746348584), (2389, 0.02831126068370613), (2390, 0.016027518413146057), (2391, 0.01032192035255916), (2392, 0.020111496579386236), (2393, 0.008248472819763143), (2394, 0.015343954673640987), (2395, 0.01735639481480994), (2396, 0.0), (2397, 0.0075231036405652195), (2398, 0.03660270602590572), (2399, 0.022973571750498186), (2400, 0.01420103279099311), (2401, 0.0), (2402, 0.0), (2403, 0.02554864523850657), (2404, 0.007876278023481363), (2405, 0.017037531044987918), (2406, 0.0), (2407, 0.022324214699764176), (2408, 0.008194961163281254), (2409, 0.009217842955270813), (2410, 0.0), (2411, 0.0), (2412, 0.013316977347882984), (2413, 0.014981158100012361), (2414, 0.019601357245267757), (2415, 0.033300074563604315), (2416, 0.011285921837345338), (2417, 0.025198045508376697), (2418, 0.0), (2419, 0.0), (2420, 0.009054142209635392), (2421, 0.0), (2422, 0.0), (2423, 0.011200377995020381), (2424, 0.007414025241205139), (2425, 0.027641447857352855), (2426, 0.009343130391775227), (2427, 0.028784922682624833), (2428, 0.0077797456538566965), (2429, 0.011472623353608845), (2430, 0.04470385235806186), (2431, 0.03540154952130582), (2432, 0.0), (2433, 0.08365489821337185), (2434, 0.0), (2435, 0.027910142510684143), (2436, 0.0), (2437, 0.010819572876558938), (2438, 0.011159407835880429), (2439, 0.020527140417484293), (2440, 0.006773356509660383), (2441, 0.008221889632725188), (2442, 0.029462613894081124), (2443, 0.0), (2444, 0.047777216367917257), (2445, 0.0195791066769524), (2446, 0.028949760447109597), (2447, 0.0), (2448, 0.02843536033965098), (2449, 0.013765745545092837), (2450, 0.013888493092364501), (2451, 0.0), (2452, 0.02584818082607452), (2453, 0.0), (2454, 0.03999436287813538), (2455, 0.017103881419806677), (2456, 0.025678481452004562), (2457, 0.008522131723674714), (2458, 0.0), (2459, 0.0), (2460, 0.0), (2461, 0.01393657476210283), (2462, 0.008716013163586033), (2463, 0.00800061760167854), (2464, 0.0), (2465, 0.009217588136556633), (2466, 0.03592380627189738), (2467, 0.007662022201831446), (2468, 0.008759833907393018), (2469, 0.0), (2470, 0.05224177322812688), (2471, 0.013101086335393197), (2472, 0.0), (2473, 0.022144469585115324), (2474, 0.05270796628302851), (2475, 0.0), (2476, 0.0), (2477, 0.0), (2478, 0.014947312664113829), (2479, 0.0), (2480, 0.019214151689850353), (2481, 0.0), (2482, 0.07053390554831772), (2483, 0.007963767298913118), (2484, 0.007888845267434864), (2485, 0.02361058097952176), (2486, 0.004782269736584759), (2487, 0.010091099831675353), (2488, 0.018034608553201634), (2489, 0.00846706792544203), (2490, 0.01617177935187878), (2491, 0.019680944200211176), (2492, 0.07720993930846726), (2493, 0.0), (2494, 0.0), (2495, 0.008136252616856647), (2496, 0.03527888894762725), (2497, 0.0), (2498, 0.0), (2499, 0.010337581497730584), (2500, 0.0), (2501, 0.0), (2502, 0.008021036122187289), (2503, 0.0), (2504, 0.009877157553128763), (2505, 0.0), (2506, 0.030987042258130218), (2507, 0.01831647856145454), (2508, 0.009385714421556335), (2509, 0.0), (2510, 0.024402394430658857), (2511, 0.00901512029966244), (2512, 0.0), (2513, 0.036609829215355764), (2514, 0.07337337385697333), (2515, 0.004190295521719535), (2516, 0.0), (2517, 0.0), (2518, 0.0), (2519, 0.0), (2520, 0.012424463940706334), (2521, 0.004468120464552313), (2522, 0.02367965149206115), (2523, 0.0), (2524, 0.01963042736661027), (2525, 0.008373641009971752), (2526, 0.0), (2527, 0.015074790578738404), (2528, 0.0), (2529, 0.01784139081748488), (2530, 0.1373732247372919), (2531, 0.01908054548694253), (2532, 0.029909850198565763), (2533, 0.0), (2534, 0.017920859136499573), (2535, 0.008564713539833924), (2536, 0.02590991084091989), (2537, 0.0), (2538, 0.019608409148003356), (2539, 0.029083205342871052), (2540, 0.03801305588394782), (2541, 0.0), (2542, 0.010497458272264311), (2543, 0.044754967080269964), (2544, 0.016013790702558102), (2545, 0.035133850822994764), (2546, 0.016717204878647064), (2547, 0.0), (2548, 0.009737526545616474), (2549, 0.007740637190366689), (2550, 0.022820806370494315), (2551, 0.0), (2552, 0.0), (2553, 0.03975397382441533), (2554, 0.019896754083615294), (2555, 0.017774695279731266), (2556, 0.031175182833051648), (2557, 0.016883930202002184), (2558, 0.012323775028799836), (2559, 0.0), (2560, 0.057248152894223484), (2561, 0.007806588735680501), (2562, 0.034310298675125715), (2563, 0.017304789987042442), (2564, 0.013786292530148847), (2565, 0.005342303208770425), (2566, 0.0), (2567, 0.026906876494602393), (2568, 0.01916401166234881), (2569, 0.007913142499657772), (2570, 0.0), (2571, 0.02107013310043656), (2572, 0.04547730814514499), (2573, 0.02821981714658567), (2574, 0.05066807964737996), (2575, 0.019330292136337187), (2576, 0.0), (2577, 0.03457971413009997), (2578, 0.013836301560673041), (2579, 0.022084039832583245), (2580, 0.034530776155047994), (2581, 0.028689781019857998), (2582, 0.023885926014894625), (2583, 0.023024207278374377), (2584, 0.026189207628373564), (2585, 0.030932869601498294), (2586, 0.05472919108104719), (2587, 0.029256573724311022), (2588, 0.0), (2589, 0.0), (2590, 0.0), (2591, 0.011140185255314296), (2592, 0.035852503846372626), (2593, 0.007326690338957171), (2594, 0.0), (2595, 0.0), (2596, 0.014035198521420895), (2597, 0.025470588324789423), (2598, 0.02104956192007803), (2599, 0.0), (2600, 0.0), (2601, 0.0), (2602, 0.012918237121065814), (2603, 0.009766709666007718), (2604, 0.02179497168763226), (2605, 0.0), (2606, 0.013618326126692283), (2607, 0.007425068429264806), (2608, 0.0), (2609, 0.037434916259640585), (2610, 0.018940348163922777), (2611, 0.009249984214177734), (2612, 0.01793171710312718), (2613, 0.021428768775321856), (2614, 0.023595331642463503), (2615, 0.027218125664398782), (2616, 0.006262293613899254), (2617, 0.0), (2618, 0.0), (2619, 0.01361372444077469), (2620, 0.0), (2621, 0.020153570310006193), (2622, 0.022165024393882717), (2623, 0.006406800582658763), (2624, 0.011290104322949144), (2625, 0.021818440733496376), (2626, 0.0072432969922821035), (2627, 0.01987078865281525), (2628, 0.016307518156685394), (2629, 0.0), (2630, 0.021487286430758874), (2631, 0.06504777397079482), (2632, 0.018086621195293466), (2633, 0.03188278092564932), (2634, 0.0), (2635, 0.07612157059438403), (2636, 0.0), (2637, 0.0), (2638, 0.018480588225789712), (2639, 0.011904450281487958), (2640, 0.02193353948740738), (2641, 0.004567764771982902), (2642, 0.00785013216896197), (2643, 0.0), (2644, 0.005279616042468476), (2645, 0.033435541045359174), (2646, 0.015428457714895441), (2647, 0.047285761345967625), (2648, 0.0), (2649, 0.008965839130655247), (2650, 0.00575734175785355), (2651, 0.009984038131396573), (2652, 0.011940911265721117), (2653, 0.0), (2654, 0.01712219515500533), (2655, 0.11270953916613298), (2656, 0.0), (2657, 0.021465957470354687), (2658, 0.0), (2659, 0.027795956225075996), (2660, 0.007466209978199734), (2661, 0.007767515016351137), (2662, 0.0), (2663, 0.0), (2664, 0.0), (2665, 0.0), (2666, 0.0), (2667, 0.03406328359556072), (2668, 0.0), (2669, 0.007800982860591928), (2670, 0.008922632722430957), (2671, 0.0), (2672, 0.0), (2673, 0.0), (2674, 0.011176573504569328), (2675, 0.021541917843382895), (2676, 0.03491978602597076), (2677, 0.00658039841785423), (2678, 0.005049462851715121), (2679, 0.0), (2680, 0.0), (2681, 0.02178027511331353), (2682, 0.0), (2683, 0.005192921868578382), (2684, 0.0), (2685, 0.10980421440315517), (2686, 0.0), (2687, 0.026730828143365463), (2688, 0.04158228311037358), (2689, 0.021870611615505443), (2690, 0.0), (2691, 0.0), (2692, 0.04079133949350326), (2693, 0.010720236185077343), (2694, 0.0), (2695, 0.02301745791967543), (2696, 0.0), (2697, 0.0), (2698, 0.0), (2699, 0.0), (2700, 0.016964936187310303), (2701, 0.0), (2702, 0.018256206263264234), (2703, 0.015063769446971055), (2704, 0.027759953513415182), (2705, 0.0), (2706, 0.0), (2707, 0.0), (2708, 0.03555021785999194), (2709, 0.0), (2710, 0.0), (2711, 0.0), (2712, 0.005215963147795358), (2713, 0.04350023510784011), (2714, 0.0), (2715, 0.03881810617499204), (2716, 0.009751314395424768), (2717, 0.0), (2718, 0.0), (2719, 0.008813526034982795), (2720, 0.008815825767421964), (2721, 0.016841752055711694), (2722, 0.007956938647448094), (2723, 0.0), (2724, 0.0), (2725, 0.0), (2726, 0.022139710638721073), (2727, 0.014800864531416788), (2728, 0.006793651759084412), (2729, 0.009158012202090051), (2730, 0.03924194624615453), (2731, 0.05719320121356586), (2732, 0.01756311140364051), (2733, 0.0), (2734, 0.008625460195998715), (2735, 0.0), (2736, 0.02688700554379443), (2737, 0.0), (2738, 0.018793617078935843), (2739, 0.007688456357432549), (2740, 0.0894062566247198), (2741, 0.03033300660698405), (2742, 0.02931895990751958), (2743, 0.0), (2744, 0.0), (2745, 0.009789391153187966), (2746, 0.021128667759444206), (2747, 0.021913261649682676), (2748, 0.0), (2749, 0.03337710109861567), (2750, 0.006514174750681594), (2751, 0.0), (2752, 0.008286110254383106), (2753, 0.09951168410001493), (2754, 0.0), (2755, 0.02654462109828528), (2756, 0.02824916218904628), (2757, 0.023338152973196875), (2758, 0.0171462729766669), (2759, 0.025793314923503292), (2760, 0.0), (2761, 0.022563717532086677), (2762, 0.007023964134395655), (2763, 0.0294786151189769), (2764, 0.0), (2765, 0.018715792154415777), (2766, 0.013065575421491586), (2767, 0.007919744597412163), (2768, 0.0), (2769, 0.028413726412998098), (2770, 0.0), (2771, 0.031944743116527737), (2772, 0.0), (2773, 0.03935607751611091), (2774, 0.006823794615014857), (2775, 0.013310526377249988), (2776, 0.0), (2777, 0.03953499009970756), (2778, 0.019104960711629253), (2779, 0.022805851491782297), (2780, 0.04217313387955454), (2781, 0.005033207383864078), (2782, 0.0), (2783, 0.023570970576071857), (2784, 0.009909178075821694), (2785, 0.005337151745043535), (2786, 0.008581720572390313), (2787, 0.0), (2788, 0.020892553474036145), (2789, 0.057324867969190244), (2790, 0.029524464593025948), (2791, 0.008538822884785868), (2792, 0.038470091205063034), (2793, 0.08113461186171189), (2794, 0.008458868150231419), (2795, 0.007649638620855087), (2796, 0.039174752591650465), (2797, 0.016890080722243152), (2798, 0.017356878376739125), (2799, 0.017212753272364312), (2800, 0.008468968785837245), (2801, 0.007192450337442205), (2802, 0.01697050565905974), (2803, 0.004599393040846562), (2804, 0.007848400842318403), (2805, 0.09653055839236144), (2806, 0.004157112526164854), (2807, 0.008409084626136808), (2808, 0.01345961312079089), (2809, 0.01939930786334127), (2810, 0.0), (2811, 0.0), (2812, 0.03240701439146726), (2813, 0.05158384538957643), (2814, 0.03091721252913968), (2815, 0.02811290499833126), (2816, 0.016310509425586674), (2817, 0.0), (2818, 0.03580841573281995), (2819, 0.011851542733676244), (2820, 0.027579551411524034), (2821, 0.0), (2822, 0.06523623085813705), (2823, 0.03205158672321503), (2824, 0.05114689340419648), (2825, 0.0), (2826, 0.07908804353048147), (2827, 0.005309759852241236), (2828, 0.007477424663806526), (2829, 0.02850165131841341), (2830, 0.052908890806271355), (2831, 0.008697112855002414), (2832, 0.008177060740486485), (2833, 0.021656480065505176), (2834, 0.0), (2835, 0.0308146493051627), (2836, 0.013265241723364886), (2837, 0.010454106201602358), (2838, 0.0), (2839, 0.015064075176666195), (2840, 0.0), (2841, 0.0), (2842, 0.009301902472823349), (2843, 0.0), (2844, 0.0), (2845, 0.0), (2846, 0.010600044798819248), (2847, 0.0), (2848, 0.020125541058772435), (2849, 0.03719209263660313), (2850, 0.0), (2851, 0.03658903233167636), (2852, 0.0), (2853, 0.010811542554524215), (2854, 0.0), (2855, 0.0), (2856, 0.010597565902991327), (2857, 0.0), (2858, 0.11413652180839842), (2859, 0.019259927844102926), (2860, 0.01937542442100883), (2861, 0.018346139114994123), (2862, 0.046032060102589006), (2863, 0.00513609193782345), (2864, 0.029869445351926205), (2865, 0.007830828833211092), (2866, 0.0), (2867, 0.007167015455204336), (2868, 0.011001105993800988), (2869, 0.024899792820574924), (2870, 0.0), (2871, 0.04860319935980385), (2872, 0.009704009857189484), (2873, 0.0), (2874, 0.010493159812379381), (2875, 0.01630713124622932), (2876, 0.021078169585329227), (2877, 0.0), (2878, 0.05515185050930864), (2879, 0.02062530550813907), (2880, 0.0), (2881, 0.0), (2882, 0.0), (2883, 0.0), (2884, 0.031566493567821485), (2885, 0.00885837427189639), (2886, 0.0), (2887, 0.02366854162109285), (2888, 0.014170908630617037), (2889, 0.01826830386312588), (2890, 0.0), (2891, 0.02071016503660198), (2892, 0.047332554693430715), (2893, 0.0), (2894, 0.02174863664458352), (2895, 0.0), (2896, 0.0), (2897, 0.0687325954457757), (2898, 0.0), (2899, 0.02924126018824488), (2900, 0.0), (2901, 0.008606964178987282), (2902, 0.020466387678945368), (2903, 0.0), (2904, 0.008983219882562279), (2905, 0.006674882002410664), (2906, 0.008689484878656518), (2907, 0.018255635601410213), (2908, 0.0), (2909, 0.021098995706693362), (2910, 0.0), (2911, 0.007887976175178972), (2912, 0.01335291975436016), (2913, 0.0), (2914, 0.02064456738632578), (2915, 0.02726487964482112), (2916, 0.0), (2917, 0.0), (2918, 0.005265128699522156), (2919, 0.008956254066540352), (2920, 0.0), (2921, 0.016354562151619866), (2922, 0.020041619935676415), (2923, 0.0), (2924, 0.0), (2925, 0.0), (2926, 0.021922542409662633), (2927, 0.026660957131927718), (2928, 0.009816670186017134), (2929, 0.03514119909215634), (2930, 0.0), (2931, 0.026679067534860434), (2932, 0.007644523066420075), (2933, 0.007327904040699391), (2934, 0.0), (2935, 0.0), (2936, 0.0), (2937, 0.0), (2938, 0.017750792658544044), (2939, 0.020399781382769634), (2940, 0.016011846071586327), (2941, 0.008022430308148016), (2942, 0.0), (2943, 0.0), (2944, 0.0195305334945897), (2945, 0.0), (2946, 0.042308930804565444), (2947, 0.008287722643896865), (2948, 0.008125166438300347), (2949, 0.01662354445515998), (2950, 0.008104747236162288), (2951, 0.0), (2952, 0.021417697113726212), (2953, 0.014302492069185551), (2954, 0.0), (2955, 0.0), (2956, 0.0), (2957, 0.008384586631018164), (2958, 0.01664374053307985), (2959, 0.021189971123077023), (2960, 0.00889299840815021), (2961, 0.028844440036226753), (2962, 0.0), (2963, 0.0), (2964, 0.02399680854553707), (2965, 0.008327123080817544), (2966, 0.0), (2967, 0.00917322152449968), (2968, 0.0), (2969, 0.0), (2970, 0.0), (2971, 0.015574242828561256), (2972, 0.006384021715683351), (2973, 0.010002826633673762), (2974, 0.0), (2975, 0.018352783487321334), (2976, 0.0), (2977, 0.014846762409476362), (2978, 0.021241407684477076), (2979, 0.00853213142187002), (2980, 0.005897718848800492), (2981, 0.0), (2982, 0.043734275425904495), (2983, 0.06841359888033002), (2984, 0.0), (2985, 0.015152835922686729), (2986, 0.01842497656229628), (2987, 0.0), (2988, 0.0), (2989, 0.0), (2990, 0.010560021439008915), (2991, 0.01603389083189388), (2992, 0.0), (2993, 0.01667372101197228), (2994, 0.007881245256192234), (2995, 0.005250568386014171), (2996, 0.005124339139704502), (2997, 0.0), (2998, 0.009033248196177249), (2999, 0.029063516731651903), (3000, 0.00969861382386126), (3001, 0.026988659324938616), (3002, 0.0), (3003, 0.017448923729866266), (3004, 0.010942476625300828), (3005, 0.0), (3006, 0.018866939579886197), (3007, 0.004213605300378606), (3008, 0.01665085230894172), (3009, 0.032283193625339386), (3010, 0.0459369087110605), (3011, 0.01664633307326294), (3012, 0.012388963363858384), (3013, 0.009862186177607408), (3014, 0.03934397767922128), (3015, 0.0), (3016, 0.00888114917044104), (3017, 0.008309348729828109), (3018, 0.007126150418614115), (3019, 0.008189699647710073), (3020, 0.02373838630851025), (3021, 0.005979733456284166), (3022, 0.0), (3023, 0.0), (3024, 0.0), (3025, 0.0), (3026, 0.0), (3027, 0.0), (3028, 0.0), (3029, 0.004906763874052582), (3030, 0.030503590832391885), (3031, 0.05608432418691643), (3032, 0.006472934338084551), (3033, 0.06882483694481675), (3034, 0.0), (3035, 0.020342589588662453), (3036, 0.0), (3037, 0.0), (3038, 0.0), (3039, 0.0), (3040, 0.01304201955875002), (3041, 0.0), (3042, 0.018106749290578088), (3043, 0.026138123902603193), (3044, 0.009549390973542593), (3045, 0.007314636474626293), (3046, 0.04541372738982333), (3047, 0.05227719423322647), (3048, 0.007788254002700384), (3049, 0.016267715419819667), (3050, 0.02732269083013021), (3051, 0.016117199385612208), (3052, 0.007353578328557359), (3053, 0.0614937693536529), (3054, 0.0), (3055, 0.019042683917904587), (3056, 0.017070664226139096), (3057, 0.0), (3058, 0.0), (3059, 0.0), (3060, 0.0), (3061, 0.0), (3062, 0.012751866613785096), (3063, 0.01571609532485843), (3064, 0.0), (3065, 0.0), (3066, 0.009629825534849206), (3067, 0.0), (3068, 0.038079744057881566), (3069, 0.014711134738463057), (3070, 0.007273009934693388), (3071, 0.0), (3072, 0.027773070148091543), (3073, 0.019653084213322784), (3074, 0.011963396431367184), (3075, 0.07656011925039205), (3076, 0.008140345973126184), (3077, 0.005389591352749593), (3078, 0.02414337819902619), (3079, 0.0), (3080, 0.025932526288316285), (3081, 0.0), (3082, 0.0), (3083, 0.024349835998103662), (3084, 0.0), (3085, 0.008146770991792316), (3086, 0.029973002426384506), (3087, 0.007901869200902557), (3088, 0.026360320023223395), (3089, 0.005634743987543985), (3090, 0.0074783031745224654), (3091, 0.006154669034619182), (3092, 0.008731537672391303), (3093, 0.01382064876571967), (3094, 0.018563964022973507), (3095, 0.01783907232877769), (3096, 0.0), (3097, 0.03304721251096089), (3098, 0.00558599820155528), (3099, 0.004339620837882694), (3100, 0.0), (3101, 0.00830792328482796), (3102, 0.0), (3103, 0.0), (3104, 0.0), (3105, 0.0), (3106, 0.029836960850183683), (3107, 0.0), (3108, 0.03311047873174014), (3109, 0.0), (3110, 0.0), (3111, 0.0287131458886414), (3112, 0.03254416713480707), (3113, 0.0), (3114, 0.021821216729944054), (3115, 0.0), (3116, 0.022588030355625816), (3117, 0.0), (3118, 0.0), (3119, 0.0), (3120, 0.03154972306932067), (3121, 0.0), (3122, 0.0), (3123, 0.006976892297563277), (3124, 0.007665080966068962), (3125, 0.03036698498750211), (3126, 0.011276286198657393), (3127, 0.01882113042290758), (3128, 0.0059595990162209875), (3129, 0.0), (3130, 0.0), (3131, 0.0), (3132, 0.00780453779510678), (3133, 0.004312512451717948), (3134, 0.0), (3135, 0.0), (3136, 0.02776827173916815), (3137, 0.0), (3138, 0.021266897016741428), (3139, 0.0), (3140, 0.0), (3141, 0.01798604109417461), (3142, 0.029832128183312788), (3143, 0.018689940200818406), (3144, 0.014258042751768615), (3145, 0.01956676373577194), (3146, 0.046692892879965475), (3147, 0.008337693254790833), (3148, 0.07051443394414272), (3149, 0.0), (3150, 0.0), (3151, 0.022390879571115442), (3152, 0.0), (3153, 0.005538209502594358), (3154, 0.006040956810451682), (3155, 0.0), (3156, 0.0), (3157, 0.010035210877117192), (3158, 0.02257708513112494), (3159, 0.0), (3160, 0.01737349341373926), (3161, 0.013945103609747198), (3162, 0.031051491435648386), (3163, 0.0), (3164, 0.0), (3165, 0.017978357336314775), (3166, 0.0), (3167, 0.0), (3168, 0.036134366442943086), (3169, 0.006760329558070128), (3170, 0.01209194332100998), (3171, 0.0), (3172, 0.01064415398221387), (3173, 0.016577061976447954), (3174, 0.0), (3175, 0.006900172394531547), (3176, 0.008887594052887466), (3177, 0.019419667468474983), (3178, 0.0), (3179, 0.007269336091764261), (3180, 0.014386788885050534), (3181, 0.010359749063065686), (3182, 0.0), (3183, 0.0200471394044236), (3184, 0.053758367478026384), (3185, 0.0), (3186, 0.01992840065415868), (3187, 0.0), (3188, 0.0), (3189, 0.021610385233609645), (3190, 0.0), (3191, 0.0), (3192, 0.019491481444918184), (3193, 0.0), (3194, 0.0), (3195, 0.008283658812848118), (3196, 0.0), (3197, 0.007140969295830424), (3198, 0.0), (3199, 0.008937155236889389), (3200, 0.0), (3201, 0.01394499404557601), (3202, 0.02953841408185414), (3203, 0.029165878456017022), (3204, 0.0), (3205, 0.006597564676605913), (3206, 0.0), (3207, 0.017678045944648724), (3208, 0.05349357201558701), (3209, 0.020878623482585908), (3210, 0.0), (3211, 0.050277673460301965), (3212, 0.0), (3213, 0.0), (3214, 0.009591132244567662), (3215, 0.0), (3216, 0.0), (3217, 0.0), (3218, 0.04193144277006697), (3219, 0.008286258584938411), (3220, 0.019953763182146558), (3221, 0.0048413563254619384), (3222, 0.0), (3223, 0.0), (3224, 0.02386332912836851), (3225, 0.01068822627116133), (3226, 0.0), (3227, 0.014188259388254862), (3228, 0.0), (3229, 0.02818971295356522), (3230, 0.0), (3231, 0.004334164872270241), (3232, 0.04522567127593378), (3233, 0.0), (3234, 0.015695954365573157), (3235, 0.0), (3236, 0.02722649248697842), (3237, 0.019203830253771155), (3238, 0.02186863197915005), (3239, 0.039305181294137834), (3240, 0.0), (3241, 0.017402116829586093), (3242, 0.07115649368602578), (3243, 0.04250479555235182), (3244, 0.029144017553061), (3245, 0.008410226317822496), (3246, 0.015391822501281112), (3247, 0.027219697341201523), (3248, 0.0), (3249, 0.0), (3250, 0.047684927328473056), (3251, 0.024094728581014403), (3252, 0.019235461351458108), (3253, 0.01641136858084838), (3254, 0.008278851327421169), (3255, 0.007383222319211603), (3256, 0.006806007187921873), (3257, 0.006974398640630545), (3258, 0.0), (3259, 0.01158207240265334), (3260, 0.02173814978824745), (3261, 0.0), (3262, 0.0), (3263, 0.007259342935721642), (3264, 0.0), (3265, 0.0), (3266, 0.008398108091888708), (3267, 0.06484032054628709), (3268, 0.0), (3269, 0.0), (3270, 0.008756740049841881), (3271, 0.0), (3272, 0.0), (3273, 0.014848491780132991), (3274, 0.0044492490657203594), (3275, 0.006043744372866129), (3276, 0.017657375993137863), (3277, 0.015697726113890545), (3278, 0.0), (3279, 0.00893119971888063), (3280, 0.018253732010575077), (3281, 0.01785877240315928), (3282, 0.010618334986523915), (3283, 0.0), (3284, 0.02874741487048716), (3285, 0.021501094123177546), (3286, 0.016802812771802355), (3287, 0.040878207478280644), (3288, 0.0), (3289, 0.0), (3290, 0.013821778560342097), (3291, 0.023678728107242114), (3292, 0.0), (3293, 0.029362170119061774), (3294, 0.027082458320694926), (3295, 0.0), (3296, 0.007180469313973743), (3297, 0.06256549822883029), (3298, 0.0), (3299, 0.006442310376974763), (3300, 0.0), (3301, 0.008637986465980099), (3302, 0.00935185632297031), (3303, 0.015449923671919857), (3304, 0.007032911169183759), (3305, 0.012598033238040054), (3306, 0.0468894508031419), (3307, 0.007240862847337392), (3308, 0.02031540428006788), (3309, 0.011419985499892791), (3310, 0.0), (3311, 0.0), (3312, 0.021677066955678212), (3313, 0.008127061468231849), (3314, 0.0), (3315, 0.03145725933153995), (3316, 0.013527131562123524), (3317, 0.0), (3318, 0.021779899180964468), (3319, 0.0), (3320, 0.009097950977250642), (3321, 0.035528488117773496), (3322, 0.007453144952559377), (3323, 0.07093837703816055), (3324, 0.0), (3325, 0.04388566680159247), (3326, 0.08864740283572534), (3327, 0.0), (3328, 0.0), (3329, 0.02228168312402347), (3330, 0.009331447169828247), (3331, 0.0), (3332, 0.03483725220844276), (3333, 0.03706615486266432), (3334, 0.03380290422800614), (3335, 0.014930148564769144), (3336, 0.013823729288610523), (3337, 0.024604373831795617), (3338, 0.033694102904873416), (3339, 0.009519848470270773), (3340, 0.0), (3341, 0.0), (3342, 0.0), (3343, 0.00539683747824653), (3344, 0.0), (3345, 0.013126294183100427), (3346, 0.007812482455297258), (3347, 0.03577129882601757), (3348, 0.04161565283644544), (3349, 0.020172739288629046), (3350, 0.08655054623169338), (3351, 0.039395968822721505), (3352, 0.021600926497014037), (3353, 0.0), (3354, 0.022667553390481442), (3355, 0.06163725811314998), (3356, 0.0), (3357, 0.00693568445309944), (3358, 0.006320899411055798), (3359, 0.04422151373766266), (3360, 0.009416067423415551), (3361, 0.026916611287387024), (3362, 0.018964735871980658), (3363, 0.0), (3364, 0.011161681231402118), (3365, 0.0), (3366, 0.0), (3367, 0.0), (3368, 0.03993230481575126), (3369, 0.0), (3370, 0.01174969014663075), (3371, 0.023224810684275333), (3372, 0.0634015191509373), (3373, 0.006686714282916756), (3374, 0.012467994729176491), (3375, 0.047762371968544784), (3376, 0.009140309631343506), (3377, 0.02796278607354603), (3378, 0.0077285215996565175), (3379, 0.013879795869627955), (3380, 0.0), (3381, 0.008576967414987828), (3382, 0.024666712372865742), (3383, 0.016919907662983753), (3384, 0.0), (3385, 0.0276423993198935), (3386, 0.008570558083910463), (3387, 0.010076597968378795), (3388, 0.0), (3389, 0.02138433327868704), (3390, 0.03268144436260144), (3391, 0.014244655926321815), (3392, 0.0), (3393, 0.0), (3394, 0.020314958329599467), (3395, 0.0), (3396, 0.0), (3397, 0.00936677968908261), (3398, 0.0), (3399, 0.010649995796497485), (3400, 0.028933761360774794), (3401, 0.016119454259424935), (3402, 0.018533365215852), (3403, 0.0), (3404, 0.03822017262721622), (3405, 0.049614662138495455), (3406, 0.021846087600919415), (3407, 0.0), (3408, 0.02747537642760617), (3409, 0.04442588575633952), (3410, 0.0), (3411, 0.0), (3412, 0.014224190587596915), (3413, 0.007470593693982963), (3414, 0.014641821376556612), (3415, 0.0), (3416, 0.011596915149669998), (3417, 0.02287145629901431), (3418, 0.006497633938246931), (3419, 0.0), (3420, 0.015571772333246834), (3421, 0.007016599330783713), (3422, 0.0), (3423, 0.03852331888100041), (3424, 0.03604919313010584), (3425, 0.006359371515884717), (3426, 0.0), (3427, 0.03472659932407464), (3428, 0.008342685956353733), (3429, 0.0), (3430, 0.01965708350871151), (3431, 0.008586161946688006), (3432, 0.0), (3433, 0.008463161571889338), (3434, 0.029013401808925636), (3435, 0.0), (3436, 0.008780033224539123), (3437, 0.007111197451608695), (3438, 0.0), (3439, 0.04566988215905938), (3440, 0.014825296522977274), (3441, 0.01611281974764695), (3442, 0.008058412563203481), (3443, 0.0), (3444, 0.008572991281966036), (3445, 0.014053682771515471), (3446, 0.03391552810846758), (3447, 0.007408435854578012), (3448, 0.010435873127939846), (3449, 0.017186032329095772), (3450, 0.03602193097919057), (3451, 0.03302660932733678), (3452, 0.0), (3453, 0.0), (3454, 0.007094386629024889), (3455, 0.019107171350900877), (3456, 0.019849518552316366), (3457, 0.0), (3458, 0.008225991881888113), (3459, 0.01699300013944141), (3460, 0.012100606254904105), (3461, 0.0), (3462, 0.01701323485492115), (3463, 0.013187342939057285), (3464, 0.027750303051607812), (3465, 0.030494070493586985), (3466, 0.08668912224324152), (3467, 0.006685774288609967), (3468, 0.0), (3469, 0.017827496040345107), (3470, 0.026042314663075636), (3471, 0.0), (3472, 0.0135258423394253), (3473, 0.007809192211093686), (3474, 0.012304645188135342), (3475, 0.03975043342779548), (3476, 0.0), (3477, 0.034409290746105145), (3478, 0.0), (3479, 0.03138248969181123), (3480, 0.018213793264644985), (3481, 0.022042587180242275), (3482, 0.01246814374056671), (3483, 0.00790431840179359), (3484, 0.0), (3485, 0.015624499474612747), (3486, 0.010924734943250889), (3487, 0.0), (3488, 0.009045747024561448), (3489, 0.02267651371268215), (3490, 0.022631742989093227), (3491, 0.0), (3492, 0.038595106128332404), (3493, 0.0), (3494, 0.01610171812656732), (3495, 0.018100667617660722), (3496, 0.0), (3497, 0.0), (3498, 0.0), (3499, 0.02842634049699244), (3500, 0.008192139047744663), (3501, 0.02183859071095311), (3502, 0.0), (3503, 0.020021537199765658), (3504, 0.018573143455132723), (3505, 0.020877538885462284), (3506, 0.008457786119467169), (3507, 0.024453448784531567), (3508, 0.008169847411709891), (3509, 0.0064644170583374825), (3510, 0.024536475046640763), (3511, 0.01760626410453416), (3512, 0.006863633391340462), (3513, 0.0), (3514, 0.00839129849723227), (3515, 0.025942054980027694), (3516, 0.004730667189624704), (3517, 0.0), (3518, 0.0423025122877909), (3519, 0.0), (3520, 0.0153091417456974), (3521, 0.0), (3522, 0.005883926218205289), (3523, 0.005628814734974896), (3524, 0.0), (3525, 0.0), (3526, 0.007961696799759357), (3527, 0.01249992926249914), (3528, 0.017259946321743685), (3529, 0.0164426392632341), (3530, 0.0), (3531, 0.021274974632137365), (3532, 0.008048703932781207), (3533, 0.015232340942432473), (3534, 0.0), (3535, 0.0), (3536, 0.0), (3537, 0.008217329852494381), (3538, 0.03765221577616237), (3539, 0.0), (3540, 0.0), (3541, 0.007881526207729913), (3542, 0.0), (3543, 0.0), (3544, 0.03313350230211917), (3545, 0.005494336140216559), (3546, 0.03433030112865988), (3547, 0.0), (3548, 0.013417205086468337), (3549, 0.008233676057789657), (3550, 0.06393063808449993), (3551, 0.0), (3552, 0.018072052315689015), (3553, 0.00963227052650487), (3554, 0.010488878112705527), (3555, 0.0), (3556, 0.009791365805198233), (3557, 0.0), (3558, 0.009034158580559544), (3559, 0.017965690757809898), (3560, 0.0), (3561, 0.01785828459217152), (3562, 0.020688125901358635), (3563, 0.009297030069886941), (3564, 0.06748597328266653), (3565, 0.0), (3566, 0.008057149668978527), (3567, 0.01623587639625799), (3568, 0.008552306480355749), (3569, 0.010703892723267387), (3570, 0.0), (3571, 0.008653717143061106), (3572, 0.0), (3573, 0.0), (3574, 0.01807640205053272), (3575, 0.0238854996279511), (3576, 0.0070923709596547885), (3577, 0.0), (3578, 0.0), (3579, 0.04066339755149709), (3580, 0.010214933653245373), (3581, 0.008130546239445582), (3582, 0.008451967905532978), (3583, 0.0), (3584, 0.012703637811057492), (3585, 0.0), (3586, 0.017337549133132416), (3587, 0.0), (3588, 0.007320581378888756), (3589, 0.0), (3590, 0.016922623463243056), (3591, 0.021294757542546373), (3592, 0.01751422737152352), (3593, 0.01792242524942984), (3594, 0.006825992736765535), (3595, 0.03989301472654164), (3596, 0.03280142148120986), (3597, 0.020193550672841114), (3598, 0.0), (3599, 0.031030170195248744), (3600, 0.01848766028964329), (3601, 0.0), (3602, 0.02853432763676477), (3603, 0.03347660190901597), (3604, 0.02233947474424601), (3605, 0.013502509610412612), (3606, 0.005230724421820103), (3607, 0.05735572092620986), (3608, 0.009136507314447952), (3609, 0.018577621988259064), (3610, 0.0), (3611, 0.019338944792389505), (3612, 0.0), (3613, 0.010707328875526109), (3614, 0.0), (3615, 0.00570102739824021), (3616, 0.014854673840520142), (3617, 0.012981790080614633), (3618, 0.006250682387871615), (3619, 0.029870418592994934), (3620, 0.008345885011077024), (3621, 0.0), (3622, 0.017223651182254985), (3623, 0.014930920496193796), (3624, 0.04322362197604023), (3625, 0.006812849225333099), (3626, 0.015479964272307517), (3627, 0.008367735030674645), (3628, 0.03414585325726131), (3629, 0.0), (3630, 0.09220755061184921), (3631, 0.017053704667855604), (3632, 0.022844317999794583), (3633, 0.0), (3634, 0.047534105702211), (3635, 0.016718796066622816), (3636, 0.015922809409126056), (3637, 0.06850035824377267), (3638, 0.009162758847320865), (3639, 0.007511476608410464), (3640, 0.01713700037066372), (3641, 0.0), (3642, 0.0), (3643, 0.026439885444734045), (3644, 0.022468031510511327), (3645, 0.006639063050271446), (3646, 0.020441997901347927), (3647, 0.007885521427532034), (3648, 0.03385031833272621), (3649, 0.0), (3650, 0.005911453517416628), (3651, 0.01976934955018176), (3652, 0.033540181146622744), (3653, 0.008599111860640826), (3654, 0.0), (3655, 0.0), (3656, 0.0), (3657, 0.008133253346541696), (3658, 0.007559612572913113), (3659, 0.027135351125975853), (3660, 0.018415786600251196), (3661, 0.011402765944382625), (3662, 0.028683516994180723), (3663, 0.0), (3664, 0.009611710582400939), (3665, 0.009530866153955375), (3666, 0.0), (3667, 0.024524349708350518), (3668, 0.022697534143570706), (3669, 0.021598348634490647), (3670, 0.0), (3671, 0.010888624412790324), (3672, 0.024403838937443224), (3673, 0.0), (3674, 0.0), (3675, 0.0), (3676, 0.0), (3677, 0.0), (3678, 0.027500012370676355), (3679, 0.030664661577073808), (3680, 0.03665975638251558), (3681, 0.0), (3682, 0.008574932443123913), (3683, 0.008502094100846163), (3684, 0.008124052215293338), (3685, 0.06012900367722529), (3686, 0.0), (3687, 0.0), (3688, 0.020683466548061143), (3689, 0.005554347904035231), (3690, 0.0), (3691, 0.019393907601754346), (3692, 0.0), (3693, 0.008410083577209045), (3694, 0.03688229980459642), (3695, 0.022626125255064973), (3696, 0.0), (3697, 0.0), (3698, 0.015902367834127244), (3699, 0.022433763024109384), (3700, 0.03509912768150968), (3701, 0.008498831447368758), (3702, 0.0), (3703, 0.022470958382528727), (3704, 0.021777945620316614), (3705, 0.0), (3706, 0.019885823080128522), (3707, 0.0053151933906599525), (3708, 0.0), (3709, 0.013570805246580792), (3710, 0.023063550039394542), (3711, 0.03355446024770534), (3712, 0.0), (3713, 0.0), (3714, 0.017313566564619066), (3715, 0.004996217147975444), (3716, 0.007269350439607032), (3717, 0.029148751318960515), (3718, 0.0), (3719, 0.06293374984621716), (3720, 0.0), (3721, 0.0), (3722, 0.004389894690296252), (3723, 0.0), (3724, 0.02562172703991321), (3725, 0.013481878781048548), (3726, 0.028082931495633824), (3727, 0.008431439219758247), (3728, 0.0), (3729, 0.0), (3730, 0.016857903197132696), (3731, 0.0), (3732, 0.0), (3733, 0.02080257826574433), (3734, 0.021286263111711556), (3735, 0.03181537157490147), (3736, 0.0), (3737, 0.01822979157456213), (3738, 0.0), (3739, 0.034748000857707885), (3740, 0.0052455037587596474), (3741, 0.008834681349579099), (3742, 0.0), (3743, 0.03013096266695215), (3744, 0.019342345853627443), (3745, 0.023895805485874087), (3746, 0.0), (3747, 0.024192468481663364), (3748, 0.014758536281916954), (3749, 0.005165716221369657), (3750, 0.008708949270069152), (3751, 0.0), (3752, 0.009556287096574403), (3753, 0.05128002013987719), (3754, 0.0231856735684151), (3755, 0.0204259675670689), (3756, 0.03394152491754359), (3757, 0.028924686938795137), (3758, 0.06144814379364767), (3759, 0.008906941759391942), (3760, 0.008813661148659151), (3761, 0.0), (3762, 0.039903453806280506), (3763, 0.0), (3764, 0.03263074142271305), (3765, 0.01627254257681505), (3766, 0.0554002221109673), (3767, 0.008924923476056555), (3768, 0.0), (3769, 0.018421063882608838), (3770, 0.03283108130970727), (3771, 0.02262085936625541), (3772, 0.018837726693303164), (3773, 0.0), (3774, 0.04860532649135154), (3775, 0.03647383086053699), (3776, 0.007162240987433001), (3777, 0.0117574180190466), (3778, 0.028259274724955125), (3779, 0.010698186938554618), (3780, 0.017224564830784668), (3781, 0.0), (3782, 0.03158749143043442), (3783, 0.0), (3784, 0.015380935132776236), (3785, 0.007873231933903931), (3786, 0.010523456848123319), (3787, 0.0), (3788, 0.0), (3789, 0.016691119781322226), (3790, 0.007567434618230869), (3791, 0.01873420829635461), (3792, 0.0), (3793, 0.0), (3794, 0.0), (3795, 0.015039873261524506), (3796, 0.02546556224569089), (3797, 0.008559462070017666), (3798, 0.010669295733820213), (3799, 0.013273167504061956), (3800, 0.011661978490169199), (3801, 0.0), (3802, 0.01729044944538959), (3803, 0.010651264325911585), (3804, 0.004103610694125169), (3805, 0.0), (3806, 0.01005868194329982), (3807, 0.0), (3808, 0.011719095056729535), (3809, 0.0), (3810, 0.0), (3811, 0.0), (3812, 0.00804176299433157), (3813, 0.02214935810277704), (3814, 0.0), (3815, 0.020450125686814136), (3816, 0.005668891685470774), (3817, 0.007571705029118976), (3818, 0.0), (3819, 0.05856207883591742), (3820, 0.009058295697759775), (3821, 0.00788490775617069), (3822, 0.0), (3823, 0.010357696787555049), (3824, 0.008580527846624716), (3825, 0.0), (3826, 0.025241877421661323), (3827, 0.0), (3828, 0.021005890591317942), (3829, 0.03494233684952769), (3830, 0.005759821102857799), (3831, 0.02125017551073209), (3832, 0.015801123609065645), (3833, 0.04081283854681531), (3834, 0.026161168557652856), (3835, 0.0), (3836, 0.026785282913353702), (3837, 0.036541655221875094), (3838, 0.0), (3839, 0.007173682633404812), (3840, 0.018826857325967946), (3841, 0.034062757747623), (3842, 0.005511321634844243), (3843, 0.0), (3844, 0.007135615257177115), (3845, 0.025976878807820743), (3846, 0.0), (3847, 0.02899142394379922), (3848, 0.02263517974954699), (3849, 0.013733865912462931), (3850, 0.0075289217492790494), (3851, 0.05023263968999227), (3852, 0.0), (3853, 0.0), (3854, 0.08270463326994387), (3855, 0.018501239589191025), (3856, 0.016439947329341988), (3857, 0.018117900178294823), (3858, 0.030037578257637323), (3859, 0.025167591128221554), (3860, 0.015231041516259713), (3861, 0.016931957473167437), (3862, 0.0), (3863, 0.0), (3864, 0.008110710132581238), (3865, 0.02531517904992564), (3866, 0.03444439022654401), (3867, 0.008184928190010736), (3868, 0.027909785585801657), (3869, 0.022456094618819186), (3870, 0.007713664152154152), (3871, 0.0), (3872, 0.012531591919830477), (3873, 0.059864137043677615), (3874, 0.02692710348454094), (3875, 0.009257668796753485), (3876, 0.006835118095338312), (3877, 0.0), (3878, 0.021300307628795336), (3879, 0.0073768289657509525), (3880, 0.006417651516985445), (3881, 0.0), (3882, 0.005927301503942796), (3883, 0.0428439235519079), (3884, 0.004222029216989127), (3885, 0.008897098892136657), (3886, 0.010196796300999176), (3887, 0.024040298510155537), (3888, 0.012010429915946853), (3889, 0.024820831202536156), (3890, 0.03324173900573309), (3891, 0.043377695634040515), (3892, 0.0), (3893, 0.0476952660288304), (3894, 0.0), (3895, 0.006938996010822268), (3896, 0.01821690091068704), (3897, 0.02075711274826168), (3898, 0.02751406627585609), (3899, 0.030369122796613413), (3900, 0.015889597006782257), (3901, 0.04439155572373065), (3902, 0.0), (3903, 0.019991996083841803), (3904, 0.0), (3905, 0.05004114431888847), (3906, 0.02830094743572536), (3907, 0.010037362991773602), (3908, 0.02940034060581049), (3909, 0.0), (3910, 0.016746274440802775), (3911, 0.022525889537273178), (3912, 0.01612363802517607), (3913, 0.0), (3914, 0.015977552271821523), (3915, 0.010635703769647691), (3916, 0.013838320156849002), (3917, 0.0), (3918, 0.01824817185717945), (3919, 0.03721123755911124), (3920, 0.013332434573706437), (3921, 0.04604861216311125), (3922, 0.0), (3923, 0.0), (3924, 0.0), (3925, 0.008884135759410728), (3926, 0.0), (3927, 0.0), (3928, 0.030302148725765823), (3929, 0.01265515474390216), (3930, 0.008403319137724874), (3931, 0.0), (3932, 0.010732711442709231), (3933, 0.0), (3934, 0.02032392460108762), (3935, 0.03865691112961942), (3936, 0.01652587928619184), (3937, 0.0), (3938, 0.0), (3939, 0.028532592312475902), (3940, 0.023120274527044574), (3941, 0.005656560443357763), (3942, 0.00518697935251437), (3943, 0.006386398644832712), (3944, 0.014094405511030977), (3945, 0.0279008193158586), (3946, 0.027799019657750435), (3947, 0.016687819615777994), (3948, 0.06344759582511453), (3949, 0.0), (3950, 0.0), (3951, 0.03825204105087867), (3952, 0.023128197320152487), (3953, 0.02282993241149125), (3954, 0.01979968882488026), (3955, 0.0), (3956, 0.048834692223244075), (3957, 0.014291579039763224), (3958, 0.0), (3959, 0.01889228310844543), (3960, 0.0), (3961, 0.0), (3962, 0.005426610775828205), (3963, 0.0), (3964, 0.022487871705361817), (3965, 0.023966007445392082), (3966, 0.03183722705641593), (3967, 0.0), (3968, 0.0), (3969, 0.0), (3970, 0.007839233396686475), (3971, 0.0566213485029772), (3972, 0.024832741454495925), (3973, 0.00926919826833974), (3974, 0.0060957348614268676), (3975, 0.03260771307753694), (3976, 0.01380281189024388), (3977, 0.0), (3978, 0.021804884294299588), (3979, 0.01677076117193053), (3980, 0.0), (3981, 0.01941484301140469), (3982, 0.005220591162090804), (3983, 0.01463013671724353), (3984, 0.07151644177116365), (3985, 0.0), (3986, 0.06345431292205245), (3987, 0.0088213271478689), (3988, 0.0268332840214558), (3989, 0.0), (3990, 0.0), (3991, 0.032884814177873076), (3992, 0.0), (3993, 0.0058733065436512135), (3994, 0.0), (3995, 0.0), (3996, 0.0), (3997, 0.0), (3998, 0.016964648384755313), (3999, 0.0), (4000, 0.0), (4001, 0.0), (4002, 0.0), (4003, 0.014330406393226287), (4004, 0.005830939307813409), (4005, 0.0), (4006, 0.0), (4007, 0.0), (4008, 0.030063298479964348), (4009, 0.01415492727977779), (4010, 0.03538153532993035), (4011, 0.044514698024180566), (4012, 0.029887103619596286), (4013, 0.03982906877176247), (4014, 0.008283002314604746), (4015, 0.019568845753775), (4016, 0.0), (4017, 0.020932291299746476), (4018, 0.0), (4019, 0.022977782980952967), (4020, 0.009472162943483475), (4021, 0.0), (4022, 0.02945151791400584), (4023, 0.0), (4024, 0.007513675379130287), (4025, 0.0), (4026, 0.0), (4027, 0.05292400947810784), (4028, 0.03566254200133823), (4029, 0.0), (4030, 0.019340416223934884), (4031, 0.0), (4032, 0.015237863014281773), (4033, 0.014397628392187483), (4034, 0.0), (4035, 0.0), (4036, 0.0), (4037, 0.0242229568399347), (4038, 0.026138562231016505), (4039, 0.018197496555575253), (4040, 0.008423010439333193), (4041, 0.04498378705481512), (4042, 0.00524106008380574), (4043, 0.0), (4044, 0.0), (4045, 0.042559382963529936), (4046, 0.0), (4047, 0.02382274621901415), (4048, 0.010229944178983711), (4049, 0.009017544483032625), (4050, 0.04135800652181795), (4051, 0.026832076226780934), (4052, 0.009137680103957732), (4053, 0.01868591992116788), (4054, 0.020476113809639852), (4055, 0.014009950626018734), (4056, 0.0), (4057, 0.0), (4058, 0.0), (4059, 0.0), (4060, 0.0), (4061, 0.005804761630695971), (4062, 0.022740775405213007), (4063, 0.037702443035013536), (4064, 0.0), (4065, 0.05595732479948475), (4066, 0.0), (4067, 0.01984549480557229), (4068, 0.0), (4069, 0.0), (4070, 0.0), (4071, 0.019026323862686198), (4072, 0.005713835444529831), (4073, 0.037109376366817104), (4074, 0.0), (4075, 0.0), (4076, 0.00828719733309934), (4077, 0.021238396891828822), (4078, 0.020039476478961017), (4079, 0.04008228736984204), (4080, 0.00797770145596698), (4081, 0.0120722642722194), (4082, 0.0), (4083, 0.0), (4084, 0.021512587003887047), (4085, 0.0), (4086, 0.0), (4087, 0.012210164394927154), (4088, 0.03406649406799629), (4089, 0.0), (4090, 0.007180944061584362), (4091, 0.0), (4092, 0.0), (4093, 0.005701108578900813), (4094, 0.021480582162419815), (4095, 0.0), (4096, 0.006465464659595971), (4097, 0.010097053147082874), (4098, 0.021286105142155898), (4099, 0.02074048248269452), (4100, 0.02811374067687117), (4101, 0.0), (4102, 0.0), (4103, 0.0), (4104, 0.0), (4105, 0.029236208145831968), (4106, 0.02375215283694009), (4107, 0.0), (4108, 0.01906869327279827), (4109, 0.008605110916871302), (4110, 0.03472495967479615), (4111, 0.006359807876199569), (4112, 0.0), (4113, 0.0), (4114, 0.004933691040317982), (4115, 0.0), (4116, 0.0), (4117, 0.0334481646961512), (4118, 0.0), (4119, 0.017894550892607716), (4120, 0.025206219807988355), (4121, 0.0), (4122, 0.0), (4123, 0.0), (4124, 0.005948704223365627), (4125, 0.010501408641802422), (4126, 0.0), (4127, 0.036150091131447036), (4128, 0.0), (4129, 0.0059128410836825), (4130, 0.0), (4131, 0.01938850094274776), (4132, 0.06519615508825678), (4133, 0.0), (4134, 0.0075071650022684915), (4135, 0.026715223763690975), (4136, 0.00963081758787016), (4137, 0.0), (4138, 0.009451457533864857), (4139, 0.032159864806466675), (4140, 0.0), (4141, 0.0), (4142, 0.04008505369536294), (4143, 0.006172798970472119), (4144, 0.02185209805770838), (4145, 0.019476251294938646), (4146, 0.014471031507595475), (4147, 0.010334556435606615), (4148, 0.0), (4149, 0.00935405927823007), (4150, 0.015115440094260987), (4151, 0.025495013894241345), (4152, 0.011796506006603412), (4153, 0.07127507259646959), (4154, 0.04313304317422012), (4155, 0.013732607977739996), (4156, 0.02082264347069395), (4157, 0.0), (4158, 0.05704977182229487), (4159, 0.04982659490397005), (4160, 0.041082747762372786), (4161, 0.007121979634927727), (4162, 0.0), (4163, 0.017833374959496957), (4164, 0.02921999108279741), (4165, 0.0), (4166, 0.0), (4167, 0.026579076158368044), (4168, 0.0), (4169, 0.0), (4170, 0.009522611433408934), (4171, 0.0), (4172, 0.03084384867089511), (4173, 0.007856250731607697), (4174, 0.005753848393351418), (4175, 0.018330668281005526), (4176, 0.06219157466177186), (4177, 0.04188107900430941), (4178, 0.0), (4179, 0.014882003497418519), (4180, 0.00943023987821648), (4181, 0.02010019996645562), (4182, 0.02093349417603263), (4183, 0.11353876531321921), (4184, 0.045327454766044224), (4185, 0.0), (4186, 0.0), (4187, 0.0060941287842083405), (4188, 0.0), (4189, 0.04049431345165049), (4190, 0.0), (4191, 0.02098122572166964), (4192, 0.008041477453170473), (4193, 0.040497470797613705), (4194, 0.0), (4195, 0.00791301445834687), (4196, 0.006702064358825231), (4197, 0.008263699284628443), (4198, 0.0), (4199, 0.0), (4200, 0.059506549998310995), (4201, 0.018011010792295928), (4202, 0.007351418661532416), (4203, 0.04993872226218514), (4204, 0.007833181814846974), (4205, 0.008963532932010123), (4206, 0.0), (4207, 0.0), (4208, 0.0), (4209, 0.029460354715369265), (4210, 0.0), (4211, 0.04201447494129148), (4212, 0.0), (4213, 0.009741310905190285), (4214, 0.012687765261049004), (4215, 0.011808939785869504), (4216, 0.0078703182496836), (4217, 0.009058096224510323), (4218, 0.0), (4219, 0.0), (4220, 0.004670831880857795), (4221, 0.05428451047271345), (4222, 0.017794374890383248), (4223, 0.006098225314203336), (4224, 0.008827420492017651), (4225, 0.017003891296486273), (4226, 0.006240093037830946), (4227, 0.0), (4228, 0.03618194880752225), (4229, 0.0), (4230, 0.013776034714659439), (4231, 0.015456706378099405), (4232, 0.0190011688590868), (4233, 0.017641359488570207), (4234, 0.0), (4235, 0.0), (4236, 0.0), (4237, 0.008261552707641099), (4238, 0.016386604363445457), (4239, 0.029309778727981243), (4240, 0.0), (4241, 0.010393200930670476), (4242, 0.0), (4243, 0.0), (4244, 0.0), (4245, 0.0), (4246, 0.0335151305970804), (4247, 0.0), (4248, 0.0), (4249, 0.00835116343896571), (4250, 0.0), (4251, 0.023296212848429303), (4252, 0.029057052508361148), (4253, 0.0), (4254, 0.029523893148616667), (4255, 0.04483395822380165), (4256, 0.04223800659192274), (4257, 0.0), (4258, 0.0063453053181198255), (4259, 0.02357619385957979), (4260, 0.0), (4261, 0.023373775267356657), (4262, 0.0), (4263, 0.007432214926168969), (4264, 0.008958424529064915), (4265, 0.006771129380892886), (4266, 0.0), (4267, 0.09468285761112293), (4268, 0.007691007015220353), (4269, 0.0), (4270, 0.0), (4271, 0.0), (4272, 0.008545807980274156), (4273, 0.029039967615580354), (4274, 0.0), (4275, 0.005099362409852739), (4276, 0.03956371495025973), (4277, 0.007574312127493454), (4278, 0.009464212926195426), (4279, 0.02202451485063288), (4280, 0.0), (4281, 0.008643007914679396), (4282, 0.009081174337117321), (4283, 0.014332810491009864), (4284, 0.024897717747778072), (4285, 0.03687889526988989), (4286, 0.03180965052205108), (4287, 0.006529840059985695), (4288, 0.018163398865052624), (4289, 0.0), (4290, 0.0), (4291, 0.025602300444489832), (4292, 0.007597582997653555), (4293, 0.0), (4294, 0.0), (4295, 0.030943302946593594), (4296, 0.0), (4297, 0.01957647368273257), (4298, 0.0), (4299, 0.0), (4300, 0.05132829819610413), (4301, 0.012955881810923449), (4302, 0.007169625475853003), (4303, 0.0), (4304, 0.0), (4305, 0.0), (4306, 0.0), (4307, 0.0), (4308, 0.0), (4309, 0.0), (4310, 0.00746470902690559), (4311, 0.04237684077493501), (4312, 0.039445168533128114), (4313, 0.037920735335717756), (4314, 0.0), (4315, 0.0047238512062288), (4316, 0.004742445456975399), (4317, 0.008418881831423225), (4318, 0.0), (4319, 0.025380193282361248), (4320, 0.01704858534733509), (4321, 0.008864708440215054), (4322, 0.0), (4323, 0.0), (4324, 0.01954305430110049), (4325, 0.023608305064855235), (4326, 0.02157391943089125), (4327, 0.013728346759044573), (4328, 0.010611956636390087), (4329, 0.042845277088499084), (4330, 0.010308400914699723), (4331, 0.007280559350666074), (4332, 0.0), (4333, 0.013254467584407353), (4334, 0.0), (4335, 0.0), (4336, 0.0), (4337, 0.015789086912455935), (4338, 0.0), (4339, 0.04173266823829372), (4340, 0.006910398014265469), (4341, 0.0), (4342, 0.0), (4343, 0.007823808990535187), (4344, 0.004501719528877707), (4345, 0.01017735878961085), (4346, 0.01340905478827646), (4347, 0.0), (4348, 0.017625826538003934), (4349, 0.005501383169600896), (4350, 0.03752802763522038), (4351, 0.004915546695148099), (4352, 0.015599070269188324), (4353, 0.01355571485898728), (4354, 0.0), (4355, 0.0177893788924605), (4356, 0.030717641857640622), (4357, 0.017618608497090137), (4358, 0.0), (4359, 0.0), (4360, 0.0184319627685434), (4361, 0.0), (4362, 0.0), (4363, 0.0), (4364, 0.0), (4365, 0.00849963016960993), (4366, 0.0), (4367, 0.01042329527717722), (4368, 0.03609669496045223), (4369, 0.0), (4370, 0.009942394245269031), (4371, 0.008933780040529988), (4372, 0.02479895124378561), (4373, 0.008549387756846593), (4374, 0.0), (4375, 0.0191938328042828), (4376, 0.021801046159450426), (4377, 0.007950081240470907), (4378, 0.027217438639777138), (4379, 0.01848404885933508), (4380, 0.020482528702467178), (4381, 0.007628986310298961), (4382, 0.013895426737584376), (4383, 0.014295825600831508), (4384, 0.0), (4385, 0.0), (4386, 0.02881619055847516), (4387, 0.0), (4388, 0.04571635723539978), (4389, 0.0), (4390, 0.007548256844989768), (4391, 0.021806824652795008), (4392, 0.031551801962830237), (4393, 0.01511439464674318), (4394, 0.0068369326462402735), (4395, 0.00708383448393484), (4396, 0.0), (4397, 0.006747053074005497), (4398, 0.0), (4399, 0.06268172916619422), (4400, 0.0), (4401, 0.030593707314490928), (4402, 0.004703132375248852), (4403, 0.0), (4404, 0.006538351925547436), (4405, 0.0), (4406, 0.0), (4407, 0.0), (4408, 0.02747295622250058), (4409, 0.0), (4410, 0.0), (4411, 0.07357327641709639), (4412, 0.0), (4413, 0.0), (4414, 0.010415766262004631), (4415, 0.023918356803842446), (4416, 0.0), (4417, 0.0), (4418, 0.030583245365581064), (4419, 0.0), (4420, 0.0), (4421, 0.026401327295201806), (4422, 0.0), (4423, 0.0), (4424, 0.0), (4425, 0.006175091089703483), (4426, 0.0), (4427, 0.019272667988829144), (4428, 0.0319808323951426), (4429, 0.0), (4430, 0.025620425298163687), (4431, 0.0), (4432, 0.06979240805656592), (4433, 0.0), (4434, 0.0), (4435, 0.0), (4436, 0.0), (4437, 0.0), (4438, 0.022870792953686863), (4439, 0.056938544825739276), (4440, 0.03718320807338607), (4441, 0.0), (4442, 0.017169174806338575), (4443, 0.0), (4444, 0.0), (4445, 0.0), (4446, 0.0), (4447, 0.010183020209924933), (4448, 0.016752807757106525), (4449, 0.008837224799150865), (4450, 0.006424147434476346), (4451, 0.0), (4452, 0.0), (4453, 0.0), (4454, 0.018018607020230594), (4455, 0.0), (4456, 0.0), (4457, 0.0), (4458, 0.0), (4459, 0.0), (4460, 0.005960088095869755), (4461, 0.020700562426783267), (4462, 0.0), (4463, 0.0), (4464, 0.0), (4465, 0.005546866060051285), (4466, 0.0), (4467, 0.01992471253217963), (4468, 0.0), (4469, 0.0), (4470, 0.01050072377680287), (4471, 0.019378120241405016), (4472, 0.02775351760586716), (4473, 0.039971218006751505), (4474, 0.0), (4475, 0.008618324636091938), (4476, 0.008222961450500511), (4477, 0.035509387237202705), (4478, 0.0), (4479, 0.008684982745146274), (4480, 0.0), (4481, 0.009271047852722926), (4482, 0.020168082889197716), (4483, 0.008411900697427019), (4484, 0.007573511428283609), (4485, 0.0), (4486, 0.015127570162180713), (4487, 0.00551196594659381), (4488, 0.00889821459146343), (4489, 0.011268954077489172), (4490, 0.0), (4491, 0.0), (4492, 0.0), (4493, 0.022635978199897083), (4494, 0.011164944615909845), (4495, 0.0), (4496, 0.02850937208468575), (4497, 0.01646975565419904), (4498, 0.030361530753229626), (4499, 0.0075518192297254864), (4500, 0.0), (4501, 0.010383346262420594), (4502, 0.009394656811597043), (4503, 0.0), (4504, 0.0), (4505, 0.0), (4506, 0.02988757172127892), (4507, 0.026290463890585574), (4508, 0.0), (4509, 0.00915277772650463), (4510, 0.0), (4511, 0.0), (4512, 0.0), (4513, 0.0), (4514, 0.02912233792935488), (4515, 0.04885647202358133), (4516, 0.0), (4517, 0.0), (4518, 0.048657949715749334), (4519, 0.027641060884158766), (4520, 0.0), (4521, 0.0), (4522, 0.027997420183782068), (4523, 0.0), (4524, 0.008118910070572088), (4525, 0.010239175091362967), (4526, 0.03573541431954977), (4527, 0.03613588749026029), (4528, 0.0166128432554475), (4529, 0.020808032182087318), (4530, 0.0), (4531, 0.008753350112336243), (4532, 0.0), (4533, 0.0), (4534, 0.0), (4535, 0.017535581418998837), (4536, 0.0), (4537, 0.0), (4538, 0.0), (4539, 0.049630739699988144), (4540, 0.0), (4541, 0.0), (4542, 0.0), (4543, 0.011220923472811117), (4544, 0.0), (4545, 0.01651676341407265), (4546, 0.005955046389491045), (4547, 0.0), (4548, 0.0), (4549, 0.005505685485488944), (4550, 0.0), (4551, 0.0), (4552, 0.02360202750706895), (4553, 0.0), (4554, 0.02936435854975045), (4555, 0.03592531634931903), (4556, 0.008231740205041034), (4557, 0.005992759906969406), (4558, 0.041669809726893124), (4559, 0.0120026941752319), (4560, 0.0), (4561, 0.0), (4562, 0.0), (4563, 0.004318625084217244), (4564, 0.0), (4565, 0.005610193331200938), (4566, 0.0), (4567, 0.0), (4568, 0.0), (4569, 0.020495527614960714), (4570, 0.0), (4571, 0.0), (4572, 0.007962182613016828), (4573, 0.01727611124121416), (4574, 0.014063793886131517), (4575, 0.0), (4576, 0.00689000185723599), (4577, 0.008968381969534601), (4578, 0.0), (4579, 0.019829260070380033), (4580, 0.03622285430310541), (4581, 0.0), (4582, 0.0), (4583, 0.032773534704538164), (4584, 0.025268834479702608), (4585, 0.03435018649123674), (4586, 0.0), (4587, 0.0), (4588, 0.0), (4589, 0.0), (4590, 0.0), (4591, 0.0), (4592, 0.008226455498323862), (4593, 0.0), (4594, 0.022105544832417095), (4595, 0.0165637998240981), (4596, 0.009245402613121973), (4597, 0.012196765764959185), (4598, 0.0), (4599, 0.028194480916451332), (4600, 0.008492458601566374), (4601, 0.04494072980366674), (4602, 0.02230702177375219), (4603, 0.0), (4604, 0.017158689574884648), (4605, 0.014849068302119297), (4606, 0.011416225215678364), (4607, 0.0), (4608, 0.032965453382435755), (4609, 0.0), (4610, 0.020998082191798623), (4611, 0.0), (4612, 0.0), (4613, 0.010294760716985882), (4614, 0.0), (4615, 0.0), (4616, 0.06403425394321395), (4617, 0.0), (4618, 0.02435928003118352), (4619, 0.0), (4620, 0.006072986416382342), (4621, 0.07837896649693903), (4622, 0.0), (4623, 0.005508704247561915), (4624, 0.0), (4625, 0.027035064284016606), (4626, 0.013104790516575591), (4627, 0.0), (4628, 0.0), (4629, 0.025384493463633688), (4630, 0.05546741612283618), (4631, 0.023144525883136896), (4632, 0.0), (4633, 0.0), (4634, 0.00854886749551465), (4635, 0.0), (4636, 0.0), (4637, 0.0), (4638, 0.026057354282820435), (4639, 0.0), (4640, 0.0), (4641, 0.0), (4642, 0.019101996014306212), (4643, 0.03490846656476735), (4644, 0.0), (4645, 0.024691990965562502), (4646, 0.03903683259951401), (4647, 0.009335851396978179), (4648, 0.007192235318862787), (4649, 0.017409570916348493), (4650, 0.017596256750848464), (4651, 0.0), (4652, 0.0), (4653, 0.0), (4654, 0.01792204070545419), (4655, 0.0), (4656, 0.008071877138176859), (4657, 0.0), (4658, 0.0), (4659, 0.008618744250420574), (4660, 0.0), (4661, 0.0), (4662, 0.0), (4663, 0.02416358896842193), (4664, 0.04422730818025078), (4665, 0.00967165871601575), (4666, 0.015218842938926289), (4667, 0.0), (4668, 0.00812127649467453), (4669, 0.0), (4670, 0.04395226544007953), (4671, 0.0), (4672, 0.03517754294343678), (4673, 0.007940714275769752), (4674, 0.0), (4675, 0.060765793919536834), (4676, 0.0), (4677, 0.008774234353897048), (4678, 0.009056769495356205), (4679, 0.013999750215399308), (4680, 0.008905737538919349), (4681, 0.0), (4682, 0.0), (4683, 0.0), (4684, 0.0), (4685, 0.0), (4686, 0.0), (4687, 0.0), (4688, 0.0142582410038743), (4689, 0.0), (4690, 0.0), (4691, 0.0), (4692, 0.0), (4693, 0.0), (4694, 0.0), (4695, 0.0), (4696, 0.008995206119937108), (4697, 0.0), (4698, 0.0), (4699, 0.0), (4700, 0.0), (4701, 0.02311317096026396), (4702, 0.0), (4703, 0.0), (4704, 0.027551071412473364), (4705, 0.0), (4706, 0.0), (4707, 0.04888669936037911), (4708, 0.00752021860739673), (4709, 0.0), (4710, 0.0), (4711, 0.0), (4712, 0.0), (4713, 0.04252704567494594), (4714, 0.0), (4715, 0.0), (4716, 0.0), (4717, 0.036263469899302486), (4718, 0.008141129824638679), (4719, 0.0), (4720, 0.008427405496050828), (4721, 0.0), (4722, 0.0), (4723, 0.0), (4724, 0.04352888204901151), (4725, 0.0), (4726, 0.014871171022945306), (4727, 0.019902934749441867), (4728, 0.012756795991799914), (4729, 0.0), (4730, 0.08191403933124475), (4731, 0.0), (4732, 0.02658047073158657), (4733, 0.01541406426536321), (4734, 0.006244465355735436), (4735, 0.021974883029564556), (4736, 0.0), (4737, 0.0), (4738, 0.0), (4739, 0.03435353572385781), (4740, 0.008218175296016199), (4741, 0.0), (4742, 0.033473981390933785), (4743, 0.0), (4744, 0.008342665834602726), (4745, 0.0), (4746, 0.009250526313751945), (4747, 0.0), (4748, 0.0), (4749, 0.03303006212149451), (4750, 0.0), (4751, 0.0), (4752, 0.006673211172831979), (4753, 0.0), (4754, 0.0), (4755, 0.0), (4756, 0.011668526156901296), (4757, 0.030734029166227177), (4758, 0.0), (4759, 0.030977387259086532), (4760, 0.05854776032580973), (4761, 0.0), (4762, 0.0), (4763, 0.009510215661582229), (4764, 0.010580938890773064), (4765, 0.0), (4766, 0.0), (4767, 0.01710597096780319), (4768, 0.0), (4769, 0.007850431581962624), (4770, 0.0), (4771, 0.0), (4772, 0.043191634999526204), (4773, 0.019896854448345432), (4774, 0.02459422889255241), (4775, 0.0), (4776, 0.018253509722063063), (4777, 0.0), (4778, 0.03133502448379852), (4779, 0.0), (4780, 0.009269068742749643), (4781, 0.0), (4782, 0.010483456668709399), (4783, 0.0), (4784, 0.0), (4785, 0.0), (4786, 0.0), (4787, 0.009088114682982247), (4788, 0.016145386322232287), (4789, 0.03891584535903818), (4790, 0.0), (4791, 0.0317728220541161), (4792, 0.006978860831716812), (4793, 0.016136374840089375), (4794, 0.0), (4795, 0.05124223548809906), (4796, 0.020273113996351778), (4797, 0.0), (4798, 0.009531042329918648), (4799, 0.007435200207794489), (4800, 0.0), (4801, 0.010675801655328675), (4802, 0.0)]\n"
          ]
        }
      ]
    },
    {
      "cell_type": "code",
      "source": [
        "len(similarity_score)"
      ],
      "metadata": {
        "colab": {
          "base_uri": "https://localhost:8080/"
        },
        "id": "5RI4K24nQRQV",
        "outputId": "e8b68bf7-dcaa-410e-b546-f345fd017185"
      },
      "execution_count": null,
      "outputs": [
        {
          "output_type": "execute_result",
          "data": {
            "text/plain": [
              "4803"
            ]
          },
          "metadata": {},
          "execution_count": 34
        }
      ]
    },
    {
      "cell_type": "code",
      "source": [
        "sorted_similar_movies = sorted(similarity_score, key = lambda x:x[1], reverse = True)\n",
        "print(sorted_similar_movies[0:20])"
      ],
      "metadata": {
        "colab": {
          "base_uri": "https://localhost:8080/"
        },
        "id": "u8YOAXQiQSuY",
        "outputId": "f678914f-c6bf-434d-d57a-40e55149de59"
      },
      "execution_count": 43,
      "outputs": [
        {
          "output_type": "stream",
          "name": "stdout",
          "text": [
            "[(68, 1.0), (79, 0.40890433998005965), (31, 0.3146705244947752), (7, 0.23944423963486416), (16, 0.22704403782296806), (26, 0.21566241096831162), (85, 0.20615862984665334), (182, 0.19573956139611612), (511, 0.16702973947860683), (3623, 0.1609246088135586), (64, 0.1529992413944514), (203, 0.1481866794866512), (174, 0.1471993120942043), (4401, 0.14505971470107848), (101, 0.14401677581826292), (46, 0.14216268867232232), (169, 0.1380947013224906), (1740, 0.1362438264169076), (94, 0.13616819579029016), (788, 0.13305895074229218)]\n"
          ]
        }
      ]
    },
    {
      "cell_type": "code",
      "source": [
        "print('Movies recommended for you : \\n')\n",
        "\n",
        "i = 1\n",
        "\n",
        "for movie in sorted_similar_movies:\n",
        "  index = movie[0]\n",
        "  title_from_index = df[df.index==index]['title'].values[0]\n",
        "  if (i<30):\n",
        "    print(i, '.',title_from_index)\n",
        "    i+=1"
      ],
      "metadata": {
        "colab": {
          "base_uri": "https://localhost:8080/"
        },
        "id": "Eab9dxLlQhPd",
        "outputId": "a3d8ab8a-f504-442d-806d-53eb3d936912"
      },
      "execution_count": null,
      "outputs": [
        {
          "output_type": "stream",
          "name": "stdout",
          "text": [
            "Movies recommended for you : \n",
            "\n",
            "1 . Batman\n",
            "2 . Batman Returns\n",
            "3 . Batman & Robin\n",
            "4 . The Dark Knight Rises\n",
            "5 . Batman Begins\n",
            "6 . The Dark Knight\n",
            "7 . A History of Violence\n",
            "8 . Superman\n",
            "9 . Beetlejuice\n",
            "10 . Bedazzled\n",
            "11 . Mars Attacks!\n",
            "12 . The Sentinel\n",
            "13 . Planet of the Apes\n",
            "14 . Man of Steel\n",
            "15 . Suicide Squad\n",
            "16 . The Mask\n",
            "17 . Salton Sea\n",
            "18 . Spider-Man 3\n",
            "19 . The Postman Always Rings Twice\n",
            "20 . Hang 'em High\n",
            "21 . Spider-Man 2\n",
            "22 . Dungeons & Dragons: Wrath of the Dragon God\n",
            "23 . Superman Returns\n",
            "24 . Jonah Hex\n",
            "25 . Exorcist II: The Heretic\n",
            "26 . Superman II\n",
            "27 . Green Lantern\n",
            "28 . Superman III\n",
            "29 . Something's Gotta Give\n"
          ]
        }
      ]
    },
    {
      "cell_type": "code",
      "source": [
        "movie_name = input(' Enter your favourite movie name : ')\n",
        "\n",
        "list_of_all_titles = df['title'].tolist()\n",
        "\n",
        "find_close_match = difflib.get_close_matches(movie_name, list_of_all_titles)\n",
        "\n",
        "close_match = find_close_match[0]\n",
        "\n",
        "index_of_the_movie = df[df.title == close_match]['index'].values[0]\n",
        "\n",
        "similarity_score = list(enumerate(similarity[index_of_the_movie]))\n",
        "\n",
        "sorted_similar_movies = sorted(similarity_score, key = lambda x:x[1], reverse = True)\n",
        "\n",
        "print('Movies suggested for you : \\n')\n",
        "\n",
        "i = 1\n",
        "\n",
        "for movie in sorted_similar_movies:\n",
        "  index = movie[0]\n",
        "  title_from_index = df[df.index==index]['title'].values[0]\n",
        "  if (i<30):\n",
        "    print(i, '.',title_from_index)\n",
        "    i+=1"
      ],
      "metadata": {
        "id": "KBhZ8AP1Q3Rn",
        "colab": {
          "base_uri": "https://localhost:8080/"
        },
        "outputId": "45162eb5-8f83-4a01-9df9-100827ea5878"
      },
      "execution_count": 39,
      "outputs": [
        {
          "output_type": "stream",
          "name": "stdout",
          "text": [
            " Enter your favourite movie name : iron man\n",
            "Movies suggested for you : \n",
            "\n",
            "1 . Iron Man\n",
            "2 . Iron Man 2\n",
            "3 . Iron Man 3\n",
            "4 . Avengers: Age of Ultron\n",
            "5 . The Avengers\n",
            "6 . Captain America: Civil War\n",
            "7 . Captain America: The Winter Soldier\n",
            "8 . Ant-Man\n",
            "9 . X-Men\n",
            "10 . Made\n",
            "11 . X-Men: Apocalypse\n",
            "12 . X2\n",
            "13 . The Incredible Hulk\n",
            "14 . The Helix... Loaded\n",
            "15 . X-Men: First Class\n",
            "16 . X-Men: Days of Future Past\n",
            "17 . Captain America: The First Avenger\n",
            "18 . Kick-Ass 2\n",
            "19 . Guardians of the Galaxy\n",
            "20 . Deadpool\n",
            "21 . Thor: The Dark World\n",
            "22 . G-Force\n",
            "23 . X-Men: The Last Stand\n",
            "24 . Duets\n",
            "25 . Mortdecai\n",
            "26 . The Last Airbender\n",
            "27 . Southland Tales\n",
            "28 . Zathura: A Space Adventure\n",
            "29 . Sky Captain and the World of Tomorrow\n"
          ]
        }
      ]
    }
  ]
}